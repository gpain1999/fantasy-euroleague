{
 "cells": [
  {
   "cell_type": "code",
   "execution_count": 1,
   "id": "69e72fe1",
   "metadata": {},
   "outputs": [
    {
     "name": "stderr",
     "output_type": "stream",
     "text": [
      "C:\\Users\\guill\\AppData\\Local\\Packages\\PythonSoftwareFoundation.Python.3.11_qbz5n2kfra8p0\\LocalCache\\local-packages\\Python311\\site-packages\\tqdm\\auto.py:21: TqdmWarning: IProgress not found. Please update jupyter and ipywidgets. See https://ipywidgets.readthedocs.io/en/stable/user_install.html\n",
      "  from .autonotebook import tqdm as notebook_tqdm\n"
     ]
    }
   ],
   "source": [
    "from dotenv import load_dotenv\n",
    "import os\n",
    "from supabase import create_client\n",
    "import fonctions.fonctions_api as f\n",
    "import fonctions.fonctions_tableaux as ft\n",
    "import fonctions.fonctions_standard as fs"
   ]
  },
  {
   "cell_type": "code",
   "execution_count": 2,
   "id": "68ab007b",
   "metadata": {},
   "outputs": [],
   "source": [
    "load_dotenv()  # charge le .env\n",
    "url = os.getenv(\"SUPABASE_URL\")\n",
    "key = os.getenv(\"SUPABASE_KEY\")\n",
    "season = os.getenv(\"SEASON\")\n",
    "supabase = create_client(url, key)"
   ]
  },
  {
   "cell_type": "code",
   "execution_count": 3,
   "id": "75ed7aa3",
   "metadata": {},
   "outputs": [
    {
     "name": "stderr",
     "output_type": "stream",
     "text": [
      "INFO:httpx:HTTP Request: GET https://wfevzenqmhhinyodslro.supabase.co/rest/v1/vue_tableau_recap?select=id_contrat \"HTTP/2 200 OK\"\n"
     ]
    }
   ],
   "source": [
    "res = supabase.table(\"vue_tableau_recap\") \\\n",
    "    .select(\"id_contrat\") \\\n",
    "    .execute()\n",
    "\n",
    "# Extraire les identifiants uniques\n",
    "id_contrats = list({row[\"id_contrat\"] for row in res.data}) if res.data else []\n"
   ]
  },
  {
   "cell_type": "code",
   "execution_count": 5,
   "id": "9c81e750",
   "metadata": {},
   "outputs": [
    {
     "name": "stderr",
     "output_type": "stream",
     "text": [
      "INFO:httpx:HTTP Request: GET https://wfevzenqmhhinyodslro.supabase.co/rest/v1/vue_tableau_recap?select=id_contrat%2Cdate%2CPER%2Cnom%2Cprenom%2Cnom_equipe%2Crang%2Cid_joueur&id_contrat=eq.515 \"HTTP/2 200 OK\"\n",
      "INFO:httpx:HTTP Request: GET https://wfevzenqmhhinyodslro.supabase.co/rest/v1/vue_tableau_recap?select=id_contrat%2Cdate%2CPER%2Cnom%2Cprenom%2Cnom_equipe%2Crang%2Cid_joueur&id_contrat=eq.516 \"HTTP/2 200 OK\"\n",
      "INFO:httpx:HTTP Request: GET https://wfevzenqmhhinyodslro.supabase.co/rest/v1/vue_tableau_recap?select=id_contrat%2Cdate%2CPER%2Cnom%2Cprenom%2Cnom_equipe%2Crang%2Cid_joueur&id_contrat=eq.519 \"HTTP/2 200 OK\"\n",
      "INFO:httpx:HTTP Request: GET https://wfevzenqmhhinyodslro.supabase.co/rest/v1/vue_tableau_recap?select=id_contrat%2Cdate%2CPER%2Cnom%2Cprenom%2Cnom_equipe%2Crang%2Cid_joueur&id_contrat=eq.520 \"HTTP/2 200 OK\"\n",
      "INFO:httpx:HTTP Request: GET https://wfevzenqmhhinyodslro.supabase.co/rest/v1/vue_tableau_recap?select=id_contrat%2Cdate%2CPER%2Cnom%2Cprenom%2Cnom_equipe%2Crang%2Cid_joueur&id_contrat=eq.522 \"HTTP/2 200 OK\"\n",
      "INFO:httpx:HTTP Request: GET https://wfevzenqmhhinyodslro.supabase.co/rest/v1/vue_tableau_recap?select=id_contrat%2Cdate%2CPER%2Cnom%2Cprenom%2Cnom_equipe%2Crang%2Cid_joueur&id_contrat=eq.528 \"HTTP/2 200 OK\"\n",
      "INFO:httpx:HTTP Request: GET https://wfevzenqmhhinyodslro.supabase.co/rest/v1/vue_tableau_recap?select=id_contrat%2Cdate%2CPER%2Cnom%2Cprenom%2Cnom_equipe%2Crang%2Cid_joueur&id_contrat=eq.533 \"HTTP/2 200 OK\"\n",
      "INFO:httpx:HTTP Request: GET https://wfevzenqmhhinyodslro.supabase.co/rest/v1/vue_tableau_recap?select=id_contrat%2Cdate%2CPER%2Cnom%2Cprenom%2Cnom_equipe%2Crang%2Cid_joueur&id_contrat=eq.534 \"HTTP/2 200 OK\"\n",
      "INFO:httpx:HTTP Request: GET https://wfevzenqmhhinyodslro.supabase.co/rest/v1/vue_tableau_recap?select=id_contrat%2Cdate%2CPER%2Cnom%2Cprenom%2Cnom_equipe%2Crang%2Cid_joueur&id_contrat=eq.545 \"HTTP/2 200 OK\"\n",
      "INFO:httpx:HTTP Request: GET https://wfevzenqmhhinyodslro.supabase.co/rest/v1/vue_tableau_recap?select=id_contrat%2Cdate%2CPER%2Cnom%2Cprenom%2Cnom_equipe%2Crang%2Cid_joueur&id_contrat=eq.555 \"HTTP/2 200 OK\"\n",
      "INFO:httpx:HTTP Request: GET https://wfevzenqmhhinyodslro.supabase.co/rest/v1/vue_tableau_recap?select=id_contrat%2Cdate%2CPER%2Cnom%2Cprenom%2Cnom_equipe%2Crang%2Cid_joueur&id_contrat=eq.559 \"HTTP/2 200 OK\"\n",
      "INFO:httpx:HTTP Request: GET https://wfevzenqmhhinyodslro.supabase.co/rest/v1/vue_tableau_recap?select=id_contrat%2Cdate%2CPER%2Cnom%2Cprenom%2Cnom_equipe%2Crang%2Cid_joueur&id_contrat=eq.571 \"HTTP/2 200 OK\"\n",
      "INFO:httpx:HTTP Request: GET https://wfevzenqmhhinyodslro.supabase.co/rest/v1/vue_tableau_recap?select=id_contrat%2Cdate%2CPER%2Cnom%2Cprenom%2Cnom_equipe%2Crang%2Cid_joueur&id_contrat=eq.572 \"HTTP/2 200 OK\"\n",
      "INFO:httpx:HTTP Request: GET https://wfevzenqmhhinyodslro.supabase.co/rest/v1/vue_tableau_recap?select=id_contrat%2Cdate%2CPER%2Cnom%2Cprenom%2Cnom_equipe%2Crang%2Cid_joueur&id_contrat=eq.574 \"HTTP/2 200 OK\"\n",
      "INFO:httpx:HTTP Request: GET https://wfevzenqmhhinyodslro.supabase.co/rest/v1/vue_tableau_recap?select=id_contrat%2Cdate%2CPER%2Cnom%2Cprenom%2Cnom_equipe%2Crang%2Cid_joueur&id_contrat=eq.575 \"HTTP/2 200 OK\"\n",
      "INFO:httpx:HTTP Request: GET https://wfevzenqmhhinyodslro.supabase.co/rest/v1/vue_tableau_recap?select=id_contrat%2Cdate%2CPER%2Cnom%2Cprenom%2Cnom_equipe%2Crang%2Cid_joueur&id_contrat=eq.315 \"HTTP/2 200 OK\"\n",
      "INFO:httpx:HTTP Request: GET https://wfevzenqmhhinyodslro.supabase.co/rest/v1/vue_tableau_recap?select=id_contrat%2Cdate%2CPER%2Cnom%2Cprenom%2Cnom_equipe%2Crang%2Cid_joueur&id_contrat=eq.316 \"HTTP/2 200 OK\"\n",
      "INFO:httpx:HTTP Request: GET https://wfevzenqmhhinyodslro.supabase.co/rest/v1/vue_tableau_recap?select=id_contrat%2Cdate%2CPER%2Cnom%2Cprenom%2Cnom_equipe%2Crang%2Cid_joueur&id_contrat=eq.317 \"HTTP/2 200 OK\"\n",
      "INFO:httpx:HTTP Request: GET https://wfevzenqmhhinyodslro.supabase.co/rest/v1/vue_tableau_recap?select=id_contrat%2Cdate%2CPER%2Cnom%2Cprenom%2Cnom_equipe%2Crang%2Cid_joueur&id_contrat=eq.318 \"HTTP/2 200 OK\"\n",
      "INFO:httpx:HTTP Request: GET https://wfevzenqmhhinyodslro.supabase.co/rest/v1/vue_tableau_recap?select=id_contrat%2Cdate%2CPER%2Cnom%2Cprenom%2Cnom_equipe%2Crang%2Cid_joueur&id_contrat=eq.319 \"HTTP/2 200 OK\"\n",
      "INFO:httpx:HTTP Request: GET https://wfevzenqmhhinyodslro.supabase.co/rest/v1/vue_tableau_recap?select=id_contrat%2Cdate%2CPER%2Cnom%2Cprenom%2Cnom_equipe%2Crang%2Cid_joueur&id_contrat=eq.320 \"HTTP/2 200 OK\"\n",
      "INFO:httpx:HTTP Request: GET https://wfevzenqmhhinyodslro.supabase.co/rest/v1/vue_tableau_recap?select=id_contrat%2Cdate%2CPER%2Cnom%2Cprenom%2Cnom_equipe%2Crang%2Cid_joueur&id_contrat=eq.321 \"HTTP/2 200 OK\"\n",
      "INFO:httpx:HTTP Request: GET https://wfevzenqmhhinyodslro.supabase.co/rest/v1/vue_tableau_recap?select=id_contrat%2Cdate%2CPER%2Cnom%2Cprenom%2Cnom_equipe%2Crang%2Cid_joueur&id_contrat=eq.322 \"HTTP/2 200 OK\"\n",
      "INFO:httpx:HTTP Request: GET https://wfevzenqmhhinyodslro.supabase.co/rest/v1/vue_tableau_recap?select=id_contrat%2Cdate%2CPER%2Cnom%2Cprenom%2Cnom_equipe%2Crang%2Cid_joueur&id_contrat=eq.323 \"HTTP/2 200 OK\"\n",
      "INFO:httpx:HTTP Request: GET https://wfevzenqmhhinyodslro.supabase.co/rest/v1/vue_tableau_recap?select=id_contrat%2Cdate%2CPER%2Cnom%2Cprenom%2Cnom_equipe%2Crang%2Cid_joueur&id_contrat=eq.324 \"HTTP/2 200 OK\"\n",
      "INFO:httpx:HTTP Request: GET https://wfevzenqmhhinyodslro.supabase.co/rest/v1/vue_tableau_recap?select=id_contrat%2Cdate%2CPER%2Cnom%2Cprenom%2Cnom_equipe%2Crang%2Cid_joueur&id_contrat=eq.325 \"HTTP/2 200 OK\"\n",
      "INFO:httpx:HTTP Request: GET https://wfevzenqmhhinyodslro.supabase.co/rest/v1/vue_tableau_recap?select=id_contrat%2Cdate%2CPER%2Cnom%2Cprenom%2Cnom_equipe%2Crang%2Cid_joueur&id_contrat=eq.326 \"HTTP/2 200 OK\"\n",
      "INFO:httpx:HTTP Request: GET https://wfevzenqmhhinyodslro.supabase.co/rest/v1/vue_tableau_recap?select=id_contrat%2Cdate%2CPER%2Cnom%2Cprenom%2Cnom_equipe%2Crang%2Cid_joueur&id_contrat=eq.327 \"HTTP/2 200 OK\"\n",
      "INFO:httpx:HTTP Request: GET https://wfevzenqmhhinyodslro.supabase.co/rest/v1/vue_tableau_recap?select=id_contrat%2Cdate%2CPER%2Cnom%2Cprenom%2Cnom_equipe%2Crang%2Cid_joueur&id_contrat=eq.328 \"HTTP/2 200 OK\"\n",
      "INFO:httpx:HTTP Request: GET https://wfevzenqmhhinyodslro.supabase.co/rest/v1/vue_tableau_recap?select=id_contrat%2Cdate%2CPER%2Cnom%2Cprenom%2Cnom_equipe%2Crang%2Cid_joueur&id_contrat=eq.330 \"HTTP/2 200 OK\"\n",
      "INFO:httpx:HTTP Request: GET https://wfevzenqmhhinyodslro.supabase.co/rest/v1/vue_tableau_recap?select=id_contrat%2Cdate%2CPER%2Cnom%2Cprenom%2Cnom_equipe%2Crang%2Cid_joueur&id_contrat=eq.331 \"HTTP/2 200 OK\"\n",
      "INFO:httpx:HTTP Request: GET https://wfevzenqmhhinyodslro.supabase.co/rest/v1/vue_tableau_recap?select=id_contrat%2Cdate%2CPER%2Cnom%2Cprenom%2Cnom_equipe%2Crang%2Cid_joueur&id_contrat=eq.332 \"HTTP/2 200 OK\"\n",
      "INFO:httpx:HTTP Request: GET https://wfevzenqmhhinyodslro.supabase.co/rest/v1/vue_tableau_recap?select=id_contrat%2Cdate%2CPER%2Cnom%2Cprenom%2Cnom_equipe%2Crang%2Cid_joueur&id_contrat=eq.333 \"HTTP/2 200 OK\"\n",
      "INFO:httpx:HTTP Request: GET https://wfevzenqmhhinyodslro.supabase.co/rest/v1/vue_tableau_recap?select=id_contrat%2Cdate%2CPER%2Cnom%2Cprenom%2Cnom_equipe%2Crang%2Cid_joueur&id_contrat=eq.334 \"HTTP/2 200 OK\"\n",
      "INFO:httpx:HTTP Request: GET https://wfevzenqmhhinyodslro.supabase.co/rest/v1/vue_tableau_recap?select=id_contrat%2Cdate%2CPER%2Cnom%2Cprenom%2Cnom_equipe%2Crang%2Cid_joueur&id_contrat=eq.335 \"HTTP/2 200 OK\"\n",
      "INFO:httpx:HTTP Request: GET https://wfevzenqmhhinyodslro.supabase.co/rest/v1/vue_tableau_recap?select=id_contrat%2Cdate%2CPER%2Cnom%2Cprenom%2Cnom_equipe%2Crang%2Cid_joueur&id_contrat=eq.359 \"HTTP/2 200 OK\"\n",
      "INFO:httpx:HTTP Request: GET https://wfevzenqmhhinyodslro.supabase.co/rest/v1/vue_tableau_recap?select=id_contrat%2Cdate%2CPER%2Cnom%2Cprenom%2Cnom_equipe%2Crang%2Cid_joueur&id_contrat=eq.360 \"HTTP/2 200 OK\"\n",
      "INFO:httpx:HTTP Request: GET https://wfevzenqmhhinyodslro.supabase.co/rest/v1/vue_tableau_recap?select=id_contrat%2Cdate%2CPER%2Cnom%2Cprenom%2Cnom_equipe%2Crang%2Cid_joueur&id_contrat=eq.361 \"HTTP/2 200 OK\"\n",
      "INFO:httpx:HTTP Request: GET https://wfevzenqmhhinyodslro.supabase.co/rest/v1/vue_tableau_recap?select=id_contrat%2Cdate%2CPER%2Cnom%2Cprenom%2Cnom_equipe%2Crang%2Cid_joueur&id_contrat=eq.362 \"HTTP/2 200 OK\"\n",
      "INFO:httpx:HTTP Request: GET https://wfevzenqmhhinyodslro.supabase.co/rest/v1/vue_tableau_recap?select=id_contrat%2Cdate%2CPER%2Cnom%2Cprenom%2Cnom_equipe%2Crang%2Cid_joueur&id_contrat=eq.363 \"HTTP/2 200 OK\"\n",
      "INFO:httpx:HTTP Request: GET https://wfevzenqmhhinyodslro.supabase.co/rest/v1/vue_tableau_recap?select=id_contrat%2Cdate%2CPER%2Cnom%2Cprenom%2Cnom_equipe%2Crang%2Cid_joueur&id_contrat=eq.364 \"HTTP/2 200 OK\"\n",
      "INFO:httpx:HTTP Request: GET https://wfevzenqmhhinyodslro.supabase.co/rest/v1/vue_tableau_recap?select=id_contrat%2Cdate%2CPER%2Cnom%2Cprenom%2Cnom_equipe%2Crang%2Cid_joueur&id_contrat=eq.365 \"HTTP/2 200 OK\"\n",
      "INFO:httpx:HTTP Request: GET https://wfevzenqmhhinyodslro.supabase.co/rest/v1/vue_tableau_recap?select=id_contrat%2Cdate%2CPER%2Cnom%2Cprenom%2Cnom_equipe%2Crang%2Cid_joueur&id_contrat=eq.366 \"HTTP/2 200 OK\"\n",
      "INFO:httpx:HTTP Request: GET https://wfevzenqmhhinyodslro.supabase.co/rest/v1/vue_tableau_recap?select=id_contrat%2Cdate%2CPER%2Cnom%2Cprenom%2Cnom_equipe%2Crang%2Cid_joueur&id_contrat=eq.367 \"HTTP/2 200 OK\"\n",
      "INFO:httpx:HTTP Request: GET https://wfevzenqmhhinyodslro.supabase.co/rest/v1/vue_tableau_recap?select=id_contrat%2Cdate%2CPER%2Cnom%2Cprenom%2Cnom_equipe%2Crang%2Cid_joueur&id_contrat=eq.368 \"HTTP/2 200 OK\"\n",
      "INFO:httpx:HTTP Request: GET https://wfevzenqmhhinyodslro.supabase.co/rest/v1/vue_tableau_recap?select=id_contrat%2Cdate%2CPER%2Cnom%2Cprenom%2Cnom_equipe%2Crang%2Cid_joueur&id_contrat=eq.431 \"HTTP/2 200 OK\"\n",
      "INFO:httpx:HTTP Request: GET https://wfevzenqmhhinyodslro.supabase.co/rest/v1/vue_tableau_recap?select=id_contrat%2Cdate%2CPER%2Cnom%2Cprenom%2Cnom_equipe%2Crang%2Cid_joueur&id_contrat=eq.432 \"HTTP/2 200 OK\"\n",
      "INFO:httpx:HTTP Request: GET https://wfevzenqmhhinyodslro.supabase.co/rest/v1/vue_tableau_recap?select=id_contrat%2Cdate%2CPER%2Cnom%2Cprenom%2Cnom_equipe%2Crang%2Cid_joueur&id_contrat=eq.433 \"HTTP/2 200 OK\"\n",
      "INFO:httpx:HTTP Request: GET https://wfevzenqmhhinyodslro.supabase.co/rest/v1/vue_tableau_recap?select=id_contrat%2Cdate%2CPER%2Cnom%2Cprenom%2Cnom_equipe%2Crang%2Cid_joueur&id_contrat=eq.434 \"HTTP/2 200 OK\"\n",
      "INFO:httpx:HTTP Request: GET https://wfevzenqmhhinyodslro.supabase.co/rest/v1/vue_tableau_recap?select=id_contrat%2Cdate%2CPER%2Cnom%2Cprenom%2Cnom_equipe%2Crang%2Cid_joueur&id_contrat=eq.435 \"HTTP/2 200 OK\"\n",
      "INFO:httpx:HTTP Request: GET https://wfevzenqmhhinyodslro.supabase.co/rest/v1/vue_tableau_recap?select=id_contrat%2Cdate%2CPER%2Cnom%2Cprenom%2Cnom_equipe%2Crang%2Cid_joueur&id_contrat=eq.436 \"HTTP/2 200 OK\"\n",
      "INFO:httpx:HTTP Request: GET https://wfevzenqmhhinyodslro.supabase.co/rest/v1/vue_tableau_recap?select=id_contrat%2Cdate%2CPER%2Cnom%2Cprenom%2Cnom_equipe%2Crang%2Cid_joueur&id_contrat=eq.437 \"HTTP/2 200 OK\"\n",
      "INFO:httpx:HTTP Request: GET https://wfevzenqmhhinyodslro.supabase.co/rest/v1/vue_tableau_recap?select=id_contrat%2Cdate%2CPER%2Cnom%2Cprenom%2Cnom_equipe%2Crang%2Cid_joueur&id_contrat=eq.438 \"HTTP/2 200 OK\"\n",
      "INFO:httpx:HTTP Request: GET https://wfevzenqmhhinyodslro.supabase.co/rest/v1/vue_tableau_recap?select=id_contrat%2Cdate%2CPER%2Cnom%2Cprenom%2Cnom_equipe%2Crang%2Cid_joueur&id_contrat=eq.439 \"HTTP/2 200 OK\"\n",
      "INFO:httpx:HTTP Request: GET https://wfevzenqmhhinyodslro.supabase.co/rest/v1/vue_tableau_recap?select=id_contrat%2Cdate%2CPER%2Cnom%2Cprenom%2Cnom_equipe%2Crang%2Cid_joueur&id_contrat=eq.440 \"HTTP/2 200 OK\"\n",
      "INFO:httpx:HTTP Request: GET https://wfevzenqmhhinyodslro.supabase.co/rest/v1/vue_tableau_recap?select=id_contrat%2Cdate%2CPER%2Cnom%2Cprenom%2Cnom_equipe%2Crang%2Cid_joueur&id_contrat=eq.442 \"HTTP/2 200 OK\"\n",
      "INFO:httpx:HTTP Request: GET https://wfevzenqmhhinyodslro.supabase.co/rest/v1/vue_tableau_recap?select=id_contrat%2Cdate%2CPER%2Cnom%2Cprenom%2Cnom_equipe%2Crang%2Cid_joueur&id_contrat=eq.443 \"HTTP/2 200 OK\"\n",
      "INFO:httpx:HTTP Request: GET https://wfevzenqmhhinyodslro.supabase.co/rest/v1/vue_tableau_recap?select=id_contrat%2Cdate%2CPER%2Cnom%2Cprenom%2Cnom_equipe%2Crang%2Cid_joueur&id_contrat=eq.444 \"HTTP/2 200 OK\"\n",
      "INFO:httpx:HTTP Request: GET https://wfevzenqmhhinyodslro.supabase.co/rest/v1/vue_tableau_recap?select=id_contrat%2Cdate%2CPER%2Cnom%2Cprenom%2Cnom_equipe%2Crang%2Cid_joueur&id_contrat=eq.445 \"HTTP/2 200 OK\"\n",
      "INFO:httpx:HTTP Request: GET https://wfevzenqmhhinyodslro.supabase.co/rest/v1/vue_tableau_recap?select=id_contrat%2Cdate%2CPER%2Cnom%2Cprenom%2Cnom_equipe%2Crang%2Cid_joueur&id_contrat=eq.446 \"HTTP/2 200 OK\"\n",
      "INFO:httpx:HTTP Request: GET https://wfevzenqmhhinyodslro.supabase.co/rest/v1/vue_tableau_recap?select=id_contrat%2Cdate%2CPER%2Cnom%2Cprenom%2Cnom_equipe%2Crang%2Cid_joueur&id_contrat=eq.447 \"HTTP/2 200 OK\"\n",
      "INFO:httpx:HTTP Request: GET https://wfevzenqmhhinyodslro.supabase.co/rest/v1/vue_tableau_recap?select=id_contrat%2Cdate%2CPER%2Cnom%2Cprenom%2Cnom_equipe%2Crang%2Cid_joueur&id_contrat=eq.448 \"HTTP/2 200 OK\"\n",
      "INFO:httpx:HTTP Request: GET https://wfevzenqmhhinyodslro.supabase.co/rest/v1/vue_tableau_recap?select=id_contrat%2Cdate%2CPER%2Cnom%2Cprenom%2Cnom_equipe%2Crang%2Cid_joueur&id_contrat=eq.449 \"HTTP/2 200 OK\"\n",
      "INFO:httpx:HTTP Request: GET https://wfevzenqmhhinyodslro.supabase.co/rest/v1/vue_tableau_recap?select=id_contrat%2Cdate%2CPER%2Cnom%2Cprenom%2Cnom_equipe%2Crang%2Cid_joueur&id_contrat=eq.450 \"HTTP/2 200 OK\"\n",
      "INFO:httpx:HTTP Request: GET https://wfevzenqmhhinyodslro.supabase.co/rest/v1/vue_tableau_recap?select=id_contrat%2Cdate%2CPER%2Cnom%2Cprenom%2Cnom_equipe%2Crang%2Cid_joueur&id_contrat=eq.452 \"HTTP/2 200 OK\"\n",
      "INFO:httpx:HTTP Request: GET https://wfevzenqmhhinyodslro.supabase.co/rest/v1/vue_tableau_recap?select=id_contrat%2Cdate%2CPER%2Cnom%2Cprenom%2Cnom_equipe%2Crang%2Cid_joueur&id_contrat=eq.453 \"HTTP/2 200 OK\"\n",
      "INFO:httpx:HTTP Request: GET https://wfevzenqmhhinyodslro.supabase.co/rest/v1/vue_tableau_recap?select=id_contrat%2Cdate%2CPER%2Cnom%2Cprenom%2Cnom_equipe%2Crang%2Cid_joueur&id_contrat=eq.488 \"HTTP/2 200 OK\"\n",
      "INFO:httpx:HTTP Request: GET https://wfevzenqmhhinyodslro.supabase.co/rest/v1/vue_tableau_recap?select=id_contrat%2Cdate%2CPER%2Cnom%2Cprenom%2Cnom_equipe%2Crang%2Cid_joueur&id_contrat=eq.489 \"HTTP/2 200 OK\"\n",
      "INFO:httpx:HTTP Request: GET https://wfevzenqmhhinyodslro.supabase.co/rest/v1/vue_tableau_recap?select=id_contrat%2Cdate%2CPER%2Cnom%2Cprenom%2Cnom_equipe%2Crang%2Cid_joueur&id_contrat=eq.490 \"HTTP/2 200 OK\"\n",
      "INFO:httpx:HTTP Request: GET https://wfevzenqmhhinyodslro.supabase.co/rest/v1/vue_tableau_recap?select=id_contrat%2Cdate%2CPER%2Cnom%2Cprenom%2Cnom_equipe%2Crang%2Cid_joueur&id_contrat=eq.491 \"HTTP/2 200 OK\"\n",
      "INFO:httpx:HTTP Request: GET https://wfevzenqmhhinyodslro.supabase.co/rest/v1/vue_tableau_recap?select=id_contrat%2Cdate%2CPER%2Cnom%2Cprenom%2Cnom_equipe%2Crang%2Cid_joueur&id_contrat=eq.492 \"HTTP/2 200 OK\"\n",
      "INFO:httpx:HTTP Request: GET https://wfevzenqmhhinyodslro.supabase.co/rest/v1/vue_tableau_recap?select=id_contrat%2Cdate%2CPER%2Cnom%2Cprenom%2Cnom_equipe%2Crang%2Cid_joueur&id_contrat=eq.493 \"HTTP/2 200 OK\"\n",
      "INFO:httpx:HTTP Request: GET https://wfevzenqmhhinyodslro.supabase.co/rest/v1/vue_tableau_recap?select=id_contrat%2Cdate%2CPER%2Cnom%2Cprenom%2Cnom_equipe%2Crang%2Cid_joueur&id_contrat=eq.495 \"HTTP/2 200 OK\"\n",
      "INFO:httpx:HTTP Request: GET https://wfevzenqmhhinyodslro.supabase.co/rest/v1/vue_tableau_recap?select=id_contrat%2Cdate%2CPER%2Cnom%2Cprenom%2Cnom_equipe%2Crang%2Cid_joueur&id_contrat=eq.497 \"HTTP/2 200 OK\"\n",
      "INFO:httpx:HTTP Request: GET https://wfevzenqmhhinyodslro.supabase.co/rest/v1/vue_tableau_recap?select=id_contrat%2Cdate%2CPER%2Cnom%2Cprenom%2Cnom_equipe%2Crang%2Cid_joueur&id_contrat=eq.498 \"HTTP/2 200 OK\"\n",
      "INFO:httpx:HTTP Request: GET https://wfevzenqmhhinyodslro.supabase.co/rest/v1/vue_tableau_recap?select=id_contrat%2Cdate%2CPER%2Cnom%2Cprenom%2Cnom_equipe%2Crang%2Cid_joueur&id_contrat=eq.499 \"HTTP/2 200 OK\"\n",
      "INFO:httpx:HTTP Request: GET https://wfevzenqmhhinyodslro.supabase.co/rest/v1/vue_tableau_recap?select=id_contrat%2Cdate%2CPER%2Cnom%2Cprenom%2Cnom_equipe%2Crang%2Cid_joueur&id_contrat=eq.500 \"HTTP/2 200 OK\"\n",
      "INFO:httpx:HTTP Request: GET https://wfevzenqmhhinyodslro.supabase.co/rest/v1/vue_tableau_recap?select=id_contrat%2Cdate%2CPER%2Cnom%2Cprenom%2Cnom_equipe%2Crang%2Cid_joueur&id_contrat=eq.503 \"HTTP/2 200 OK\"\n",
      "INFO:httpx:HTTP Request: GET https://wfevzenqmhhinyodslro.supabase.co/rest/v1/vue_tableau_recap?select=id_contrat%2Cdate%2CPER%2Cnom%2Cprenom%2Cnom_equipe%2Crang%2Cid_joueur&id_contrat=eq.504 \"HTTP/2 200 OK\"\n",
      "INFO:httpx:HTTP Request: GET https://wfevzenqmhhinyodslro.supabase.co/rest/v1/vue_tableau_recap?select=id_contrat%2Cdate%2CPER%2Cnom%2Cprenom%2Cnom_equipe%2Crang%2Cid_joueur&id_contrat=eq.506 \"HTTP/2 200 OK\"\n"
     ]
    }
   ],
   "source": [
    "for idc in id_contrats :\n",
    "    ft.create_pnj_perf(supabase,idc)"
   ]
  },
  {
   "cell_type": "code",
   "execution_count": null,
   "id": "afc93e3a",
   "metadata": {},
   "outputs": [],
   "source": []
  },
  {
   "cell_type": "code",
   "execution_count": null,
   "id": "6cf8231d",
   "metadata": {},
   "outputs": [],
   "source": []
  },
  {
   "cell_type": "code",
   "execution_count": null,
   "id": "81a74b87",
   "metadata": {},
   "outputs": [],
   "source": [
    "f.acheter_joueur(supabase, id_user=4, id_contrat=318)"
   ]
  },
  {
   "cell_type": "code",
   "execution_count": null,
   "id": "d12cb643",
   "metadata": {},
   "outputs": [],
   "source": [
    "ft.afficher_effectif(supabase,id_user=4)"
   ]
  },
  {
   "cell_type": "code",
   "execution_count": null,
   "id": "a512a50b",
   "metadata": {},
   "outputs": [],
   "source": [
    "ft.afficher_joueurs_disponibles(supabase,id_user=4)"
   ]
  },
  {
   "cell_type": "code",
   "execution_count": null,
   "id": "aee2ac5a",
   "metadata": {},
   "outputs": [],
   "source": [
    "for id_contrat in [329,441,494,496,540,541,546,570]:\n",
    "    f.finir_contrat_with_idcontrat(supabase,id_contrat=id_contrat)"
   ]
  },
  {
   "cell_type": "code",
   "execution_count": null,
   "id": "c37833c1",
   "metadata": {},
   "outputs": [],
   "source": [
    "# f.acheter_joueur(supabase, id_user = 4, id_contrat = 323)\n",
    "# f.acheter_joueur(supabase, id_user = 4, id_contrat = 360)\n",
    "# f.acheter_joueur(supabase, id_user = 4, id_contrat = 435)\n",
    "# f.acheter_joueur(supabase, id_user = 4, id_contrat = 328)"
   ]
  },
  {
   "cell_type": "code",
   "execution_count": null,
   "id": "12fcedfb",
   "metadata": {},
   "outputs": [],
   "source": [
    "import bcrypt\n",
    "import fonctions.fonctions_standard as fs\n",
    "\n",
    "plain_password = \"mdp\"\n",
    "hashed = fs.hash_password(plain_password)\n",
    "\n",
    "# Vérification\n",
    "bcrypt.checkpw(plain_password.encode(), hashed.encode())  # → True\n"
   ]
  },
  {
   "cell_type": "code",
   "execution_count": null,
   "id": "29d2592a",
   "metadata": {},
   "outputs": [],
   "source": [
    "fs.hash_password(\"mdp\") == fs.hash_password(\"mdp\")"
   ]
  },
  {
   "cell_type": "code",
   "execution_count": null,
   "id": "8cba2ac6",
   "metadata": {},
   "outputs": [],
   "source": [
    "# f.ajouter_user(supabase, pseudo = \"gpain1999\", mot_de_passe = \"Iledefrance75@\", adresse_mail = \"guillaume.pain9@gmail.com\")"
   ]
  },
  {
   "cell_type": "code",
   "execution_count": null,
   "id": "e9ec11f6",
   "metadata": {},
   "outputs": [],
   "source": [
    "# f.finir_contrats_equipe(supabase, id_equipe = \"ZAL\")"
   ]
  },
  {
   "cell_type": "code",
   "execution_count": null,
   "id": "670afaeb",
   "metadata": {},
   "outputs": [],
   "source": [
    "from euroleague_api.game_stats import GameStats\n",
    "\n",
    "gs = GameStats()\n",
    "\n",
    "ggs = gs.get_game_report(season=season, game_code=324)"
   ]
  },
  {
   "cell_type": "code",
   "execution_count": null,
   "id": "753f2956",
   "metadata": {},
   "outputs": [],
   "source": [
    "# f.get_update_match_data(supabase, season)"
   ]
  }
 ],
 "metadata": {
  "kernelspec": {
   "display_name": "Python 3",
   "language": "python",
   "name": "python3"
  },
  "language_info": {
   "codemirror_mode": {
    "name": "ipython",
    "version": 3
   },
   "file_extension": ".py",
   "mimetype": "text/x-python",
   "name": "python",
   "nbconvert_exporter": "python",
   "pygments_lexer": "ipython3",
   "version": "3.11.9"
  }
 },
 "nbformat": 4,
 "nbformat_minor": 5
}
