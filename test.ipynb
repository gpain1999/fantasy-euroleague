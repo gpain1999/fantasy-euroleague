{
 "cells": [
  {
   "cell_type": "code",
   "execution_count": 1,
   "id": "69e72fe1",
   "metadata": {},
   "outputs": [
    {
     "name": "stderr",
     "output_type": "stream",
     "text": [
      "C:\\Users\\guill\\AppData\\Local\\Packages\\PythonSoftwareFoundation.Python.3.11_qbz5n2kfra8p0\\LocalCache\\local-packages\\Python311\\site-packages\\tqdm\\auto.py:21: TqdmWarning: IProgress not found. Please update jupyter and ipywidgets. See https://ipywidgets.readthedocs.io/en/stable/user_install.html\n",
      "  from .autonotebook import tqdm as notebook_tqdm\n"
     ]
    }
   ],
   "source": [
    "from dotenv import load_dotenv\n",
    "import os\n",
    "from supabase import create_client\n",
    "import fonctions.fonctions_api as f"
   ]
  },
  {
   "cell_type": "code",
   "execution_count": 2,
   "id": "68ab007b",
   "metadata": {},
   "outputs": [],
   "source": [
    "\n",
    "load_dotenv()  # charge le .env\n",
    "url = os.getenv(\"SUPABASE_URL\")\n",
    "key = os.getenv(\"SUPABASE_KEY\")\n",
    "season = os.getenv(\"SEASON\")\n",
    "supabase = create_client(url, key)"
   ]
  },
  {
   "cell_type": "code",
   "execution_count": null,
   "id": "c37833c1",
   "metadata": {},
   "outputs": [
    {
     "name": "stderr",
     "output_type": "stream",
     "text": [
      "INFO:httpx:HTTP Request: GET https://wfevzenqmhhinyodslro.supabase.co/rest/v1/Deadline?select=START%2CEND&START=lte.2025-05-02T19%3A25%3A07.081826%2B02%3A00&END=gte.2025-05-02T19%3A25%3A07.081826%2B02%3A00 \"HTTP/2 200 OK\"\n"
     ]
    },
    {
     "data": {
      "text/plain": [
       "False"
      ]
     },
     "execution_count": 3,
     "metadata": {},
     "output_type": "execute_result"
    }
   ],
   "source": [
    "f.acheter_joueur(supabase, id_user = 3, id_contrat = 335)"
   ]
  },
  {
   "cell_type": "code",
   "execution_count": 3,
   "id": "8cba2ac6",
   "metadata": {},
   "outputs": [
    {
     "name": "stderr",
     "output_type": "stream",
     "text": [
      "INFO:httpx:HTTP Request: GET https://wfevzenqmhhinyodslro.supabase.co/rest/v1/User?select=adresse_mail&adresse_mail=eq.guillaume.pain9%40gmail.com \"HTTP/2 200 OK\"\n",
      "INFO:httpx:HTTP Request: GET https://wfevzenqmhhinyodslro.supabase.co/rest/v1/User?select=pseudo&pseudo=eq.gpain1999 \"HTTP/2 200 OK\"\n",
      "INFO:httpx:HTTP Request: POST https://wfevzenqmhhinyodslro.supabase.co/rest/v1/User \"HTTP/2 201 Created\"\n",
      "INFO:httpx:HTTP Request: POST https://wfevzenqmhhinyodslro.supabase.co/rest/v1/Banque \"HTTP/2 201 Created\"\n"
     ]
    },
    {
     "name": "stdout",
     "output_type": "stream",
     "text": [
      "✅ Utilisateur gpain1999 ajouté avec id 4 et solde initial 110\n"
     ]
    }
   ],
   "source": [
    "f.ajouter_user(supabase, pseudo = \"gpain1999\", mot_de_passe = \"Iledefrance75@\", adresse_mail = \"guillaume.pain9@gmail.com\")"
   ]
  },
  {
   "cell_type": "code",
   "execution_count": 14,
   "id": "670afaeb",
   "metadata": {},
   "outputs": [],
   "source": [
    "from euroleague_api.game_stats import GameStats\n",
    "\n",
    "gs = GameStats()\n",
    "\n",
    "ggs = gs.get_game_report(season=season, game_code=324)"
   ]
  },
  {
   "cell_type": "code",
   "execution_count": 3,
   "id": "753f2956",
   "metadata": {},
   "outputs": [
    {
     "name": "stderr",
     "output_type": "stream",
     "text": [
      "INFO:httpx:HTTP Request: GET https://wfevzenqmhhinyodslro.supabase.co/rest/v1/Match?select=id_match&season=eq.2024 \"HTTP/2 200 OK\"\n",
      "INFO:httpx:HTTP Request: GET https://wfevzenqmhhinyodslro.supabase.co/rest/v1/Match?select=id_match&season=eq.2024 \"HTTP/2 200 OK\"\n"
     ]
    },
    {
     "name": "stdout",
     "output_type": "stream",
     "text": [
      "\n",
      "🔄 Traitement du match 323...\n"
     ]
    },
    {
     "name": "stderr",
     "output_type": "stream",
     "text": [
      "INFO:httpx:HTTP Request: POST https://wfevzenqmhhinyodslro.supabase.co/rest/v1/Calendrier \"HTTP/2 201 Created\"\n"
     ]
    },
    {
     "name": "stdout",
     "output_type": "stream",
     "text": [
      "✅ Match ajouté au calendrier : BAR vs MCO (Round 40)\n",
      "⚠️ Match 323 non joué, pas de données disponibles.\n",
      "\n",
      "🔄 Traitement du match 324...\n"
     ]
    },
    {
     "name": "stderr",
     "output_type": "stream",
     "text": [
      "INFO:httpx:HTTP Request: POST https://wfevzenqmhhinyodslro.supabase.co/rest/v1/Calendrier \"HTTP/2 201 Created\"\n"
     ]
    },
    {
     "name": "stdout",
     "output_type": "stream",
     "text": [
      "✅ Match ajouté au calendrier : IST vs PAN (Round 40)\n",
      "⚠️ Match 324 non joué, pas de données disponibles.\n",
      "\n",
      "🔄 Traitement du match 325...\n",
      "\n",
      "❌ Erreur dans game_code 325 → 404 Client Error: Not Found for url: https://api-live.euroleague.net/v3/competitions/E/seasons/E2024/games/325/report\n",
      "\n",
      "🔄 Traitement du match 326...\n",
      "\n",
      "❌ Erreur dans game_code 326 → 404 Client Error: Not Found for url: https://api-live.euroleague.net/v3/competitions/E/seasons/E2024/games/326/report\n",
      "\n",
      "🔄 Traitement du match 327...\n"
     ]
    },
    {
     "name": "stderr",
     "output_type": "stream",
     "text": [
      "INFO:httpx:HTTP Request: POST https://wfevzenqmhhinyodslro.supabase.co/rest/v1/Calendrier \"HTTP/2 201 Created\"\n"
     ]
    },
    {
     "name": "stdout",
     "output_type": "stream",
     "text": [
      "✅ Match ajouté au calendrier : MCO vs BAR (Round 41)\n",
      "⚠️ Match 327 non joué, pas de données disponibles.\n",
      "\n",
      "🔄 Traitement du match 328...\n"
     ]
    },
    {
     "name": "stderr",
     "output_type": "stream",
     "text": [
      "INFO:httpx:HTTP Request: POST https://wfevzenqmhhinyodslro.supabase.co/rest/v1/Calendrier \"HTTP/2 201 Created\"\n"
     ]
    },
    {
     "name": "stdout",
     "output_type": "stream",
     "text": [
      "✅ Match ajouté au calendrier : PAN vs IST (Round 41)\n",
      "⚠️ Match 328 non joué, pas de données disponibles.\n",
      "\n",
      "🔄 Traitement du match 329...\n",
      "\n",
      "❌ Erreur dans game_code 329 → 404 Client Error: Not Found for url: https://api-live.euroleague.net/v3/competitions/E/seasons/E2024/games/329/report\n",
      "\n",
      "🔄 Traitement du match 330...\n",
      "\n",
      "❌ Erreur dans game_code 330 → 404 Client Error: Not Found for url: https://api-live.euroleague.net/v3/competitions/E/seasons/E2024/games/330/report\n",
      "\n",
      "🔄 Traitement du match 331...\n",
      "\n",
      "❌ Erreur dans game_code 331 → 404 Client Error: Not Found for url: https://api-live.euroleague.net/v3/competitions/E/seasons/E2024/games/331/report\n",
      "\n",
      "🔄 Traitement du match 332...\n",
      "\n",
      "❌ Erreur dans game_code 332 → 404 Client Error: Not Found for url: https://api-live.euroleague.net/v3/competitions/E/seasons/E2024/games/332/report\n",
      "\n",
      "🔄 Traitement du match 333...\n"
     ]
    },
    {
     "name": "stderr",
     "output_type": "stream",
     "text": [
      "INFO:httpx:HTTP Request: GET https://wfevzenqmhhinyodslro.supabase.co/rest/v1/Match?select=id_match%2Cseason%2Cround \"HTTP/2 200 OK\"\n",
      "INFO:httpx:HTTP Request: DELETE https://wfevzenqmhhinyodslro.supabase.co/rest/v1/Calendrier?id_match=eq.2&season=eq.2024&round=eq.1 \"HTTP/2 200 OK\"\n"
     ]
    },
    {
     "name": "stdout",
     "output_type": "stream",
     "text": [
      "\n",
      "❌ Erreur dans game_code 333 → 404 Client Error: Not Found for url: https://api-live.euroleague.net/v3/competitions/E/seasons/E2024/games/333/report\n"
     ]
    },
    {
     "name": "stderr",
     "output_type": "stream",
     "text": [
      "INFO:httpx:HTTP Request: DELETE https://wfevzenqmhhinyodslro.supabase.co/rest/v1/Calendrier?id_match=eq.4&season=eq.2024&round=eq.1 \"HTTP/2 200 OK\"\n",
      "INFO:httpx:HTTP Request: DELETE https://wfevzenqmhhinyodslro.supabase.co/rest/v1/Calendrier?id_match=eq.5&season=eq.2024&round=eq.1 \"HTTP/2 200 OK\"\n",
      "INFO:httpx:HTTP Request: DELETE https://wfevzenqmhhinyodslro.supabase.co/rest/v1/Calendrier?id_match=eq.6&season=eq.2024&round=eq.1 \"HTTP/2 200 OK\"\n",
      "INFO:httpx:HTTP Request: DELETE https://wfevzenqmhhinyodslro.supabase.co/rest/v1/Calendrier?id_match=eq.7&season=eq.2024&round=eq.1 \"HTTP/2 200 OK\"\n",
      "INFO:httpx:HTTP Request: DELETE https://wfevzenqmhhinyodslro.supabase.co/rest/v1/Calendrier?id_match=eq.8&season=eq.2024&round=eq.1 \"HTTP/2 200 OK\"\n",
      "INFO:httpx:HTTP Request: DELETE https://wfevzenqmhhinyodslro.supabase.co/rest/v1/Calendrier?id_match=eq.9&season=eq.2024&round=eq.1 \"HTTP/2 200 OK\"\n",
      "INFO:httpx:HTTP Request: DELETE https://wfevzenqmhhinyodslro.supabase.co/rest/v1/Calendrier?id_match=eq.10&season=eq.2024&round=eq.2 \"HTTP/2 200 OK\"\n",
      "INFO:httpx:HTTP Request: DELETE https://wfevzenqmhhinyodslro.supabase.co/rest/v1/Calendrier?id_match=eq.12&season=eq.2024&round=eq.2 \"HTTP/2 200 OK\"\n",
      "INFO:httpx:HTTP Request: DELETE https://wfevzenqmhhinyodslro.supabase.co/rest/v1/Calendrier?id_match=eq.13&season=eq.2024&round=eq.2 \"HTTP/2 200 OK\"\n",
      "INFO:httpx:HTTP Request: DELETE https://wfevzenqmhhinyodslro.supabase.co/rest/v1/Calendrier?id_match=eq.14&season=eq.2024&round=eq.2 \"HTTP/2 200 OK\"\n",
      "INFO:httpx:HTTP Request: DELETE https://wfevzenqmhhinyodslro.supabase.co/rest/v1/Calendrier?id_match=eq.15&season=eq.2024&round=eq.2 \"HTTP/2 200 OK\"\n",
      "INFO:httpx:HTTP Request: DELETE https://wfevzenqmhhinyodslro.supabase.co/rest/v1/Calendrier?id_match=eq.16&season=eq.2024&round=eq.2 \"HTTP/2 200 OK\"\n",
      "INFO:httpx:HTTP Request: DELETE https://wfevzenqmhhinyodslro.supabase.co/rest/v1/Calendrier?id_match=eq.17&season=eq.2024&round=eq.2 \"HTTP/2 200 OK\"\n",
      "INFO:httpx:HTTP Request: DELETE https://wfevzenqmhhinyodslro.supabase.co/rest/v1/Calendrier?id_match=eq.18&season=eq.2024&round=eq.2 \"HTTP/2 200 OK\"\n",
      "INFO:httpx:HTTP Request: DELETE https://wfevzenqmhhinyodslro.supabase.co/rest/v1/Calendrier?id_match=eq.20&season=eq.2024&round=eq.3 \"HTTP/2 200 OK\"\n",
      "INFO:httpx:HTTP Request: DELETE https://wfevzenqmhhinyodslro.supabase.co/rest/v1/Calendrier?id_match=eq.21&season=eq.2024&round=eq.3 \"HTTP/2 200 OK\"\n",
      "INFO:httpx:HTTP Request: DELETE https://wfevzenqmhhinyodslro.supabase.co/rest/v1/Calendrier?id_match=eq.23&season=eq.2024&round=eq.3 \"HTTP/2 200 OK\"\n",
      "INFO:httpx:HTTP Request: DELETE https://wfevzenqmhhinyodslro.supabase.co/rest/v1/Calendrier?id_match=eq.22&season=eq.2024&round=eq.3 \"HTTP/2 200 OK\"\n",
      "INFO:httpx:HTTP Request: DELETE https://wfevzenqmhhinyodslro.supabase.co/rest/v1/Calendrier?id_match=eq.25&season=eq.2024&round=eq.3 \"HTTP/2 200 OK\"\n",
      "INFO:httpx:HTTP Request: DELETE https://wfevzenqmhhinyodslro.supabase.co/rest/v1/Calendrier?id_match=eq.27&season=eq.2024&round=eq.3 \"HTTP/2 200 OK\"\n",
      "INFO:httpx:HTTP Request: DELETE https://wfevzenqmhhinyodslro.supabase.co/rest/v1/Calendrier?id_match=eq.26&season=eq.2024&round=eq.3 \"HTTP/2 200 OK\"\n",
      "INFO:httpx:HTTP Request: DELETE https://wfevzenqmhhinyodslro.supabase.co/rest/v1/Calendrier?id_match=eq.28&season=eq.2024&round=eq.4 \"HTTP/2 200 OK\"\n",
      "INFO:httpx:HTTP Request: DELETE https://wfevzenqmhhinyodslro.supabase.co/rest/v1/Calendrier?id_match=eq.29&season=eq.2024&round=eq.4 \"HTTP/2 200 OK\"\n",
      "INFO:httpx:HTTP Request: DELETE https://wfevzenqmhhinyodslro.supabase.co/rest/v1/Calendrier?id_match=eq.30&season=eq.2024&round=eq.4 \"HTTP/2 200 OK\"\n",
      "INFO:httpx:HTTP Request: DELETE https://wfevzenqmhhinyodslro.supabase.co/rest/v1/Calendrier?id_match=eq.31&season=eq.2024&round=eq.4 \"HTTP/2 200 OK\"\n",
      "INFO:httpx:HTTP Request: DELETE https://wfevzenqmhhinyodslro.supabase.co/rest/v1/Calendrier?id_match=eq.32&season=eq.2024&round=eq.4 \"HTTP/2 200 OK\"\n",
      "INFO:httpx:HTTP Request: DELETE https://wfevzenqmhhinyodslro.supabase.co/rest/v1/Calendrier?id_match=eq.33&season=eq.2024&round=eq.4 \"HTTP/2 200 OK\"\n",
      "INFO:httpx:HTTP Request: DELETE https://wfevzenqmhhinyodslro.supabase.co/rest/v1/Calendrier?id_match=eq.35&season=eq.2024&round=eq.4 \"HTTP/2 200 OK\"\n",
      "INFO:httpx:HTTP Request: DELETE https://wfevzenqmhhinyodslro.supabase.co/rest/v1/Calendrier?id_match=eq.36&season=eq.2024&round=eq.4 \"HTTP/2 200 OK\"\n",
      "INFO:httpx:HTTP Request: DELETE https://wfevzenqmhhinyodslro.supabase.co/rest/v1/Calendrier?id_match=eq.37&season=eq.2024&round=eq.5 \"HTTP/2 200 OK\"\n",
      "INFO:httpx:HTTP Request: DELETE https://wfevzenqmhhinyodslro.supabase.co/rest/v1/Calendrier?id_match=eq.38&season=eq.2024&round=eq.5 \"HTTP/2 200 OK\"\n",
      "INFO:httpx:HTTP Request: DELETE https://wfevzenqmhhinyodslro.supabase.co/rest/v1/Calendrier?id_match=eq.39&season=eq.2024&round=eq.5 \"HTTP/2 200 OK\"\n",
      "INFO:httpx:HTTP Request: DELETE https://wfevzenqmhhinyodslro.supabase.co/rest/v1/Calendrier?id_match=eq.40&season=eq.2024&round=eq.5 \"HTTP/2 200 OK\"\n",
      "INFO:httpx:HTTP Request: DELETE https://wfevzenqmhhinyodslro.supabase.co/rest/v1/Calendrier?id_match=eq.41&season=eq.2024&round=eq.5 \"HTTP/2 200 OK\"\n",
      "INFO:httpx:HTTP Request: DELETE https://wfevzenqmhhinyodslro.supabase.co/rest/v1/Calendrier?id_match=eq.43&season=eq.2024&round=eq.5 \"HTTP/2 200 OK\"\n",
      "INFO:httpx:HTTP Request: DELETE https://wfevzenqmhhinyodslro.supabase.co/rest/v1/Calendrier?id_match=eq.44&season=eq.2024&round=eq.5 \"HTTP/2 200 OK\"\n",
      "INFO:httpx:HTTP Request: DELETE https://wfevzenqmhhinyodslro.supabase.co/rest/v1/Calendrier?id_match=eq.45&season=eq.2024&round=eq.5 \"HTTP/2 200 OK\"\n",
      "INFO:httpx:HTTP Request: DELETE https://wfevzenqmhhinyodslro.supabase.co/rest/v1/Calendrier?id_match=eq.46&season=eq.2024&round=eq.6 \"HTTP/2 200 OK\"\n",
      "INFO:httpx:HTTP Request: DELETE https://wfevzenqmhhinyodslro.supabase.co/rest/v1/Calendrier?id_match=eq.47&season=eq.2024&round=eq.6 \"HTTP/2 200 OK\"\n",
      "INFO:httpx:HTTP Request: DELETE https://wfevzenqmhhinyodslro.supabase.co/rest/v1/Calendrier?id_match=eq.48&season=eq.2024&round=eq.6 \"HTTP/2 200 OK\"\n",
      "INFO:httpx:HTTP Request: DELETE https://wfevzenqmhhinyodslro.supabase.co/rest/v1/Calendrier?id_match=eq.52&season=eq.2024&round=eq.6 \"HTTP/2 200 OK\"\n",
      "INFO:httpx:HTTP Request: DELETE https://wfevzenqmhhinyodslro.supabase.co/rest/v1/Calendrier?id_match=eq.51&season=eq.2024&round=eq.6 \"HTTP/2 200 OK\"\n",
      "INFO:httpx:HTTP Request: DELETE https://wfevzenqmhhinyodslro.supabase.co/rest/v1/Calendrier?id_match=eq.50&season=eq.2024&round=eq.6 \"HTTP/2 200 OK\"\n",
      "INFO:httpx:HTTP Request: DELETE https://wfevzenqmhhinyodslro.supabase.co/rest/v1/Calendrier?id_match=eq.53&season=eq.2024&round=eq.6 \"HTTP/2 200 OK\"\n",
      "INFO:httpx:HTTP Request: DELETE https://wfevzenqmhhinyodslro.supabase.co/rest/v1/Calendrier?id_match=eq.55&season=eq.2024&round=eq.7 \"HTTP/2 200 OK\"\n",
      "INFO:httpx:HTTP Request: DELETE https://wfevzenqmhhinyodslro.supabase.co/rest/v1/Calendrier?id_match=eq.54&season=eq.2024&round=eq.6 \"HTTP/2 200 OK\"\n",
      "INFO:httpx:HTTP Request: DELETE https://wfevzenqmhhinyodslro.supabase.co/rest/v1/Calendrier?id_match=eq.56&season=eq.2024&round=eq.7 \"HTTP/2 200 OK\"\n",
      "INFO:httpx:HTTP Request: DELETE https://wfevzenqmhhinyodslro.supabase.co/rest/v1/Calendrier?id_match=eq.60&season=eq.2024&round=eq.7 \"HTTP/2 200 OK\"\n",
      "INFO:httpx:HTTP Request: DELETE https://wfevzenqmhhinyodslro.supabase.co/rest/v1/Calendrier?id_match=eq.59&season=eq.2024&round=eq.7 \"HTTP/2 200 OK\"\n",
      "INFO:httpx:HTTP Request: DELETE https://wfevzenqmhhinyodslro.supabase.co/rest/v1/Calendrier?id_match=eq.57&season=eq.2024&round=eq.7 \"HTTP/2 200 OK\"\n",
      "INFO:httpx:HTTP Request: DELETE https://wfevzenqmhhinyodslro.supabase.co/rest/v1/Calendrier?id_match=eq.61&season=eq.2024&round=eq.7 \"HTTP/2 200 OK\"\n",
      "INFO:httpx:HTTP Request: DELETE https://wfevzenqmhhinyodslro.supabase.co/rest/v1/Calendrier?id_match=eq.62&season=eq.2024&round=eq.7 \"HTTP/2 200 OK\"\n",
      "INFO:httpx:HTTP Request: DELETE https://wfevzenqmhhinyodslro.supabase.co/rest/v1/Calendrier?id_match=eq.63&season=eq.2024&round=eq.7 \"HTTP/2 200 OK\"\n",
      "INFO:httpx:HTTP Request: DELETE https://wfevzenqmhhinyodslro.supabase.co/rest/v1/Calendrier?id_match=eq.64&season=eq.2024&round=eq.8 \"HTTP/2 200 OK\"\n",
      "INFO:httpx:HTTP Request: DELETE https://wfevzenqmhhinyodslro.supabase.co/rest/v1/Calendrier?id_match=eq.66&season=eq.2024&round=eq.8 \"HTTP/2 200 OK\"\n",
      "INFO:httpx:HTTP Request: DELETE https://wfevzenqmhhinyodslro.supabase.co/rest/v1/Calendrier?id_match=eq.67&season=eq.2024&round=eq.8 \"HTTP/2 200 OK\"\n",
      "INFO:httpx:HTTP Request: DELETE https://wfevzenqmhhinyodslro.supabase.co/rest/v1/Calendrier?id_match=eq.68&season=eq.2024&round=eq.8 \"HTTP/2 200 OK\"\n",
      "INFO:httpx:HTTP Request: DELETE https://wfevzenqmhhinyodslro.supabase.co/rest/v1/Calendrier?id_match=eq.69&season=eq.2024&round=eq.8 \"HTTP/2 200 OK\"\n",
      "INFO:httpx:HTTP Request: DELETE https://wfevzenqmhhinyodslro.supabase.co/rest/v1/Calendrier?id_match=eq.71&season=eq.2024&round=eq.8 \"HTTP/2 200 OK\"\n",
      "INFO:httpx:HTTP Request: DELETE https://wfevzenqmhhinyodslro.supabase.co/rest/v1/Calendrier?id_match=eq.72&season=eq.2024&round=eq.8 \"HTTP/2 200 OK\"\n",
      "INFO:httpx:HTTP Request: DELETE https://wfevzenqmhhinyodslro.supabase.co/rest/v1/Calendrier?id_match=eq.73&season=eq.2024&round=eq.9 \"HTTP/2 200 OK\"\n",
      "INFO:httpx:HTTP Request: DELETE https://wfevzenqmhhinyodslro.supabase.co/rest/v1/Calendrier?id_match=eq.74&season=eq.2024&round=eq.9 \"HTTP/2 200 OK\"\n",
      "INFO:httpx:HTTP Request: DELETE https://wfevzenqmhhinyodslro.supabase.co/rest/v1/Calendrier?id_match=eq.75&season=eq.2024&round=eq.9 \"HTTP/2 200 OK\"\n",
      "INFO:httpx:HTTP Request: DELETE https://wfevzenqmhhinyodslro.supabase.co/rest/v1/Calendrier?id_match=eq.76&season=eq.2024&round=eq.9 \"HTTP/2 200 OK\"\n",
      "INFO:httpx:HTTP Request: DELETE https://wfevzenqmhhinyodslro.supabase.co/rest/v1/Calendrier?id_match=eq.77&season=eq.2024&round=eq.9 \"HTTP/2 200 OK\"\n",
      "INFO:httpx:HTTP Request: DELETE https://wfevzenqmhhinyodslro.supabase.co/rest/v1/Calendrier?id_match=eq.78&season=eq.2024&round=eq.9 \"HTTP/2 200 OK\"\n",
      "INFO:httpx:HTTP Request: DELETE https://wfevzenqmhhinyodslro.supabase.co/rest/v1/Calendrier?id_match=eq.79&season=eq.2024&round=eq.9 \"HTTP/2 200 OK\"\n",
      "INFO:httpx:HTTP Request: DELETE https://wfevzenqmhhinyodslro.supabase.co/rest/v1/Calendrier?id_match=eq.81&season=eq.2024&round=eq.9 \"HTTP/2 200 OK\"\n",
      "INFO:httpx:HTTP Request: DELETE https://wfevzenqmhhinyodslro.supabase.co/rest/v1/Calendrier?id_match=eq.82&season=eq.2024&round=eq.10 \"HTTP/2 200 OK\"\n",
      "INFO:httpx:HTTP Request: DELETE https://wfevzenqmhhinyodslro.supabase.co/rest/v1/Calendrier?id_match=eq.84&season=eq.2024&round=eq.10 \"HTTP/2 200 OK\"\n",
      "INFO:httpx:HTTP Request: DELETE https://wfevzenqmhhinyodslro.supabase.co/rest/v1/Calendrier?id_match=eq.83&season=eq.2024&round=eq.10 \"HTTP/2 200 OK\"\n",
      "INFO:httpx:HTTP Request: DELETE https://wfevzenqmhhinyodslro.supabase.co/rest/v1/Calendrier?id_match=eq.86&season=eq.2024&round=eq.10 \"HTTP/2 200 OK\"\n",
      "INFO:httpx:HTTP Request: DELETE https://wfevzenqmhhinyodslro.supabase.co/rest/v1/Calendrier?id_match=eq.85&season=eq.2024&round=eq.10 \"HTTP/2 200 OK\"\n",
      "INFO:httpx:HTTP Request: DELETE https://wfevzenqmhhinyodslro.supabase.co/rest/v1/Calendrier?id_match=eq.87&season=eq.2024&round=eq.10 \"HTTP/2 200 OK\"\n",
      "INFO:httpx:HTTP Request: DELETE https://wfevzenqmhhinyodslro.supabase.co/rest/v1/Calendrier?id_match=eq.89&season=eq.2024&round=eq.10 \"HTTP/2 200 OK\"\n",
      "INFO:httpx:HTTP Request: DELETE https://wfevzenqmhhinyodslro.supabase.co/rest/v1/Calendrier?id_match=eq.90&season=eq.2024&round=eq.10 \"HTTP/2 200 OK\"\n",
      "INFO:httpx:HTTP Request: DELETE https://wfevzenqmhhinyodslro.supabase.co/rest/v1/Calendrier?id_match=eq.91&season=eq.2024&round=eq.11 \"HTTP/2 200 OK\"\n",
      "INFO:httpx:HTTP Request: DELETE https://wfevzenqmhhinyodslro.supabase.co/rest/v1/Calendrier?id_match=eq.92&season=eq.2024&round=eq.11 \"HTTP/2 200 OK\"\n",
      "INFO:httpx:HTTP Request: DELETE https://wfevzenqmhhinyodslro.supabase.co/rest/v1/Calendrier?id_match=eq.94&season=eq.2024&round=eq.11 \"HTTP/2 200 OK\"\n",
      "INFO:httpx:HTTP Request: DELETE https://wfevzenqmhhinyodslro.supabase.co/rest/v1/Calendrier?id_match=eq.93&season=eq.2024&round=eq.11 \"HTTP/2 200 OK\"\n",
      "INFO:httpx:HTTP Request: DELETE https://wfevzenqmhhinyodslro.supabase.co/rest/v1/Calendrier?id_match=eq.97&season=eq.2024&round=eq.11 \"HTTP/2 200 OK\"\n",
      "INFO:httpx:HTTP Request: DELETE https://wfevzenqmhhinyodslro.supabase.co/rest/v1/Calendrier?id_match=eq.96&season=eq.2024&round=eq.11 \"HTTP/2 200 OK\"\n",
      "INFO:httpx:HTTP Request: DELETE https://wfevzenqmhhinyodslro.supabase.co/rest/v1/Calendrier?id_match=eq.99&season=eq.2024&round=eq.11 \"HTTP/2 200 OK\"\n",
      "INFO:httpx:HTTP Request: DELETE https://wfevzenqmhhinyodslro.supabase.co/rest/v1/Calendrier?id_match=eq.102&season=eq.2024&round=eq.12 \"HTTP/2 200 OK\"\n",
      "INFO:httpx:HTTP Request: DELETE https://wfevzenqmhhinyodslro.supabase.co/rest/v1/Calendrier?id_match=eq.103&season=eq.2024&round=eq.12 \"HTTP/2 200 OK\"\n",
      "INFO:httpx:HTTP Request: DELETE https://wfevzenqmhhinyodslro.supabase.co/rest/v1/Calendrier?id_match=eq.101&season=eq.2024&round=eq.12 \"HTTP/2 200 OK\"\n",
      "INFO:httpx:HTTP Request: DELETE https://wfevzenqmhhinyodslro.supabase.co/rest/v1/Calendrier?id_match=eq.104&season=eq.2024&round=eq.12 \"HTTP/2 200 OK\"\n",
      "INFO:httpx:HTTP Request: DELETE https://wfevzenqmhhinyodslro.supabase.co/rest/v1/Calendrier?id_match=eq.105&season=eq.2024&round=eq.12 \"HTTP/2 200 OK\"\n",
      "INFO:httpx:HTTP Request: DELETE https://wfevzenqmhhinyodslro.supabase.co/rest/v1/Calendrier?id_match=eq.106&season=eq.2024&round=eq.12 \"HTTP/2 200 OK\"\n",
      "INFO:httpx:HTTP Request: DELETE https://wfevzenqmhhinyodslro.supabase.co/rest/v1/Calendrier?id_match=eq.107&season=eq.2024&round=eq.12 \"HTTP/2 200 OK\"\n",
      "INFO:httpx:HTTP Request: DELETE https://wfevzenqmhhinyodslro.supabase.co/rest/v1/Calendrier?id_match=eq.109&season=eq.2024&round=eq.13 \"HTTP/2 200 OK\"\n",
      "INFO:httpx:HTTP Request: DELETE https://wfevzenqmhhinyodslro.supabase.co/rest/v1/Calendrier?id_match=eq.110&season=eq.2024&round=eq.13 \"HTTP/2 200 OK\"\n",
      "INFO:httpx:HTTP Request: DELETE https://wfevzenqmhhinyodslro.supabase.co/rest/v1/Calendrier?id_match=eq.114&season=eq.2024&round=eq.13 \"HTTP/2 200 OK\"\n",
      "INFO:httpx:HTTP Request: DELETE https://wfevzenqmhhinyodslro.supabase.co/rest/v1/Calendrier?id_match=eq.112&season=eq.2024&round=eq.13 \"HTTP/2 200 OK\"\n",
      "INFO:httpx:HTTP Request: DELETE https://wfevzenqmhhinyodslro.supabase.co/rest/v1/Calendrier?id_match=eq.113&season=eq.2024&round=eq.13 \"HTTP/2 200 OK\"\n",
      "INFO:httpx:HTTP Request: DELETE https://wfevzenqmhhinyodslro.supabase.co/rest/v1/Calendrier?id_match=eq.111&season=eq.2024&round=eq.13 \"HTTP/2 200 OK\"\n",
      "INFO:httpx:HTTP Request: DELETE https://wfevzenqmhhinyodslro.supabase.co/rest/v1/Calendrier?id_match=eq.115&season=eq.2024&round=eq.13 \"HTTP/2 200 OK\"\n",
      "INFO:httpx:HTTP Request: DELETE https://wfevzenqmhhinyodslro.supabase.co/rest/v1/Calendrier?id_match=eq.117&season=eq.2024&round=eq.13 \"HTTP/2 200 OK\"\n",
      "INFO:httpx:HTTP Request: DELETE https://wfevzenqmhhinyodslro.supabase.co/rest/v1/Calendrier?id_match=eq.118&season=eq.2024&round=eq.14 \"HTTP/2 200 OK\"\n",
      "INFO:httpx:HTTP Request: DELETE https://wfevzenqmhhinyodslro.supabase.co/rest/v1/Calendrier?id_match=eq.119&season=eq.2024&round=eq.14 \"HTTP/2 200 OK\"\n",
      "INFO:httpx:HTTP Request: DELETE https://wfevzenqmhhinyodslro.supabase.co/rest/v1/Calendrier?id_match=eq.120&season=eq.2024&round=eq.14 \"HTTP/2 200 OK\"\n",
      "INFO:httpx:HTTP Request: DELETE https://wfevzenqmhhinyodslro.supabase.co/rest/v1/Calendrier?id_match=eq.121&season=eq.2024&round=eq.14 \"HTTP/2 200 OK\"\n",
      "INFO:httpx:HTTP Request: DELETE https://wfevzenqmhhinyodslro.supabase.co/rest/v1/Calendrier?id_match=eq.122&season=eq.2024&round=eq.14 \"HTTP/2 200 OK\"\n",
      "INFO:httpx:HTTP Request: DELETE https://wfevzenqmhhinyodslro.supabase.co/rest/v1/Calendrier?id_match=eq.125&season=eq.2024&round=eq.14 \"HTTP/2 200 OK\"\n",
      "INFO:httpx:HTTP Request: DELETE https://wfevzenqmhhinyodslro.supabase.co/rest/v1/Calendrier?id_match=eq.126&season=eq.2024&round=eq.14 \"HTTP/2 200 OK\"\n",
      "INFO:httpx:HTTP Request: DELETE https://wfevzenqmhhinyodslro.supabase.co/rest/v1/Calendrier?id_match=eq.127&season=eq.2024&round=eq.15 \"HTTP/2 200 OK\"\n",
      "INFO:httpx:HTTP Request: DELETE https://wfevzenqmhhinyodslro.supabase.co/rest/v1/Calendrier?id_match=eq.123&season=eq.2024&round=eq.14 \"HTTP/2 200 OK\"\n",
      "INFO:httpx:HTTP Request: DELETE https://wfevzenqmhhinyodslro.supabase.co/rest/v1/Calendrier?id_match=eq.128&season=eq.2024&round=eq.15 \"HTTP/2 200 OK\"\n",
      "INFO:httpx:HTTP Request: DELETE https://wfevzenqmhhinyodslro.supabase.co/rest/v1/Calendrier?id_match=eq.129&season=eq.2024&round=eq.15 \"HTTP/2 200 OK\"\n",
      "INFO:httpx:HTTP Request: DELETE https://wfevzenqmhhinyodslro.supabase.co/rest/v1/Calendrier?id_match=eq.132&season=eq.2024&round=eq.15 \"HTTP/2 200 OK\"\n",
      "INFO:httpx:HTTP Request: DELETE https://wfevzenqmhhinyodslro.supabase.co/rest/v1/Calendrier?id_match=eq.133&season=eq.2024&round=eq.15 \"HTTP/2 200 OK\"\n",
      "INFO:httpx:HTTP Request: DELETE https://wfevzenqmhhinyodslro.supabase.co/rest/v1/Calendrier?id_match=eq.130&season=eq.2024&round=eq.15 \"HTTP/2 200 OK\"\n",
      "INFO:httpx:HTTP Request: DELETE https://wfevzenqmhhinyodslro.supabase.co/rest/v1/Calendrier?id_match=eq.134&season=eq.2024&round=eq.15 \"HTTP/2 200 OK\"\n",
      "INFO:httpx:HTTP Request: DELETE https://wfevzenqmhhinyodslro.supabase.co/rest/v1/Calendrier?id_match=eq.135&season=eq.2024&round=eq.15 \"HTTP/2 200 OK\"\n",
      "INFO:httpx:HTTP Request: DELETE https://wfevzenqmhhinyodslro.supabase.co/rest/v1/Calendrier?id_match=eq.139&season=eq.2024&round=eq.16 \"HTTP/2 200 OK\"\n",
      "INFO:httpx:HTTP Request: DELETE https://wfevzenqmhhinyodslro.supabase.co/rest/v1/Calendrier?id_match=eq.138&season=eq.2024&round=eq.16 \"HTTP/2 200 OK\"\n",
      "INFO:httpx:HTTP Request: DELETE https://wfevzenqmhhinyodslro.supabase.co/rest/v1/Calendrier?id_match=eq.137&season=eq.2024&round=eq.16 \"HTTP/2 200 OK\"\n",
      "INFO:httpx:HTTP Request: DELETE https://wfevzenqmhhinyodslro.supabase.co/rest/v1/Calendrier?id_match=eq.140&season=eq.2024&round=eq.16 \"HTTP/2 200 OK\"\n",
      "INFO:httpx:HTTP Request: DELETE https://wfevzenqmhhinyodslro.supabase.co/rest/v1/Calendrier?id_match=eq.141&season=eq.2024&round=eq.16 \"HTTP/2 200 OK\"\n",
      "INFO:httpx:HTTP Request: DELETE https://wfevzenqmhhinyodslro.supabase.co/rest/v1/Calendrier?id_match=eq.142&season=eq.2024&round=eq.16 \"HTTP/2 200 OK\"\n",
      "INFO:httpx:HTTP Request: DELETE https://wfevzenqmhhinyodslro.supabase.co/rest/v1/Calendrier?id_match=eq.143&season=eq.2024&round=eq.16 \"HTTP/2 200 OK\"\n",
      "INFO:httpx:HTTP Request: DELETE https://wfevzenqmhhinyodslro.supabase.co/rest/v1/Calendrier?id_match=eq.145&season=eq.2024&round=eq.17 \"HTTP/2 200 OK\"\n",
      "INFO:httpx:HTTP Request: DELETE https://wfevzenqmhhinyodslro.supabase.co/rest/v1/Calendrier?id_match=eq.144&season=eq.2024&round=eq.16 \"HTTP/2 200 OK\"\n",
      "INFO:httpx:HTTP Request: DELETE https://wfevzenqmhhinyodslro.supabase.co/rest/v1/Calendrier?id_match=eq.147&season=eq.2024&round=eq.17 \"HTTP/2 200 OK\"\n",
      "INFO:httpx:HTTP Request: DELETE https://wfevzenqmhhinyodslro.supabase.co/rest/v1/Calendrier?id_match=eq.150&season=eq.2024&round=eq.17 \"HTTP/2 200 OK\"\n",
      "INFO:httpx:HTTP Request: DELETE https://wfevzenqmhhinyodslro.supabase.co/rest/v1/Calendrier?id_match=eq.149&season=eq.2024&round=eq.17 \"HTTP/2 200 OK\"\n",
      "INFO:httpx:HTTP Request: DELETE https://wfevzenqmhhinyodslro.supabase.co/rest/v1/Calendrier?id_match=eq.148&season=eq.2024&round=eq.17 \"HTTP/2 200 OK\"\n",
      "INFO:httpx:HTTP Request: DELETE https://wfevzenqmhhinyodslro.supabase.co/rest/v1/Calendrier?id_match=eq.152&season=eq.2024&round=eq.17 \"HTTP/2 200 OK\"\n",
      "INFO:httpx:HTTP Request: DELETE https://wfevzenqmhhinyodslro.supabase.co/rest/v1/Calendrier?id_match=eq.151&season=eq.2024&round=eq.17 \"HTTP/2 200 OK\"\n",
      "INFO:httpx:HTTP Request: DELETE https://wfevzenqmhhinyodslro.supabase.co/rest/v1/Calendrier?id_match=eq.153&season=eq.2024&round=eq.17 \"HTTP/2 200 OK\"\n",
      "INFO:httpx:HTTP Request: DELETE https://wfevzenqmhhinyodslro.supabase.co/rest/v1/Calendrier?id_match=eq.155&season=eq.2024&round=eq.18 \"HTTP/2 200 OK\"\n",
      "INFO:httpx:HTTP Request: DELETE https://wfevzenqmhhinyodslro.supabase.co/rest/v1/Calendrier?id_match=eq.156&season=eq.2024&round=eq.18 \"HTTP/2 200 OK\"\n",
      "INFO:httpx:HTTP Request: DELETE https://wfevzenqmhhinyodslro.supabase.co/rest/v1/Calendrier?id_match=eq.157&season=eq.2024&round=eq.18 \"HTTP/2 200 OK\"\n",
      "INFO:httpx:HTTP Request: DELETE https://wfevzenqmhhinyodslro.supabase.co/rest/v1/Calendrier?id_match=eq.158&season=eq.2024&round=eq.18 \"HTTP/2 200 OK\"\n",
      "INFO:httpx:HTTP Request: DELETE https://wfevzenqmhhinyodslro.supabase.co/rest/v1/Calendrier?id_match=eq.159&season=eq.2024&round=eq.18 \"HTTP/2 200 OK\"\n",
      "INFO:httpx:HTTP Request: DELETE https://wfevzenqmhhinyodslro.supabase.co/rest/v1/Calendrier?id_match=eq.160&season=eq.2024&round=eq.18 \"HTTP/2 200 OK\"\n",
      "INFO:httpx:HTTP Request: DELETE https://wfevzenqmhhinyodslro.supabase.co/rest/v1/Calendrier?id_match=eq.161&season=eq.2024&round=eq.18 \"HTTP/2 200 OK\"\n",
      "INFO:httpx:HTTP Request: DELETE https://wfevzenqmhhinyodslro.supabase.co/rest/v1/Calendrier?id_match=eq.163&season=eq.2024&round=eq.19 \"HTTP/2 200 OK\"\n",
      "INFO:httpx:HTTP Request: DELETE https://wfevzenqmhhinyodslro.supabase.co/rest/v1/Calendrier?id_match=eq.164&season=eq.2024&round=eq.19 \"HTTP/2 200 OK\"\n",
      "INFO:httpx:HTTP Request: DELETE https://wfevzenqmhhinyodslro.supabase.co/rest/v1/Calendrier?id_match=eq.165&season=eq.2024&round=eq.19 \"HTTP/2 200 OK\"\n",
      "INFO:httpx:HTTP Request: DELETE https://wfevzenqmhhinyodslro.supabase.co/rest/v1/Calendrier?id_match=eq.167&season=eq.2024&round=eq.19 \"HTTP/2 200 OK\"\n",
      "INFO:httpx:HTTP Request: DELETE https://wfevzenqmhhinyodslro.supabase.co/rest/v1/Calendrier?id_match=eq.166&season=eq.2024&round=eq.19 \"HTTP/2 200 OK\"\n",
      "INFO:httpx:HTTP Request: DELETE https://wfevzenqmhhinyodslro.supabase.co/rest/v1/Calendrier?id_match=eq.168&season=eq.2024&round=eq.19 \"HTTP/2 200 OK\"\n",
      "INFO:httpx:HTTP Request: DELETE https://wfevzenqmhhinyodslro.supabase.co/rest/v1/Calendrier?id_match=eq.170&season=eq.2024&round=eq.19 \"HTTP/2 200 OK\"\n",
      "INFO:httpx:HTTP Request: DELETE https://wfevzenqmhhinyodslro.supabase.co/rest/v1/Calendrier?id_match=eq.171&season=eq.2024&round=eq.19 \"HTTP/2 200 OK\"\n",
      "INFO:httpx:HTTP Request: DELETE https://wfevzenqmhhinyodslro.supabase.co/rest/v1/Calendrier?id_match=eq.172&season=eq.2024&round=eq.20 \"HTTP/2 200 OK\"\n",
      "INFO:httpx:HTTP Request: DELETE https://wfevzenqmhhinyodslro.supabase.co/rest/v1/Calendrier?id_match=eq.173&season=eq.2024&round=eq.20 \"HTTP/2 200 OK\"\n",
      "INFO:httpx:HTTP Request: DELETE https://wfevzenqmhhinyodslro.supabase.co/rest/v1/Calendrier?id_match=eq.174&season=eq.2024&round=eq.20 \"HTTP/2 200 OK\"\n",
      "INFO:httpx:HTTP Request: DELETE https://wfevzenqmhhinyodslro.supabase.co/rest/v1/Calendrier?id_match=eq.175&season=eq.2024&round=eq.20 \"HTTP/2 200 OK\"\n",
      "INFO:httpx:HTTP Request: DELETE https://wfevzenqmhhinyodslro.supabase.co/rest/v1/Calendrier?id_match=eq.176&season=eq.2024&round=eq.20 \"HTTP/2 200 OK\"\n",
      "INFO:httpx:HTTP Request: DELETE https://wfevzenqmhhinyodslro.supabase.co/rest/v1/Calendrier?id_match=eq.178&season=eq.2024&round=eq.20 \"HTTP/2 200 OK\"\n",
      "INFO:httpx:HTTP Request: DELETE https://wfevzenqmhhinyodslro.supabase.co/rest/v1/Calendrier?id_match=eq.179&season=eq.2024&round=eq.20 \"HTTP/2 200 OK\"\n",
      "INFO:httpx:HTTP Request: DELETE https://wfevzenqmhhinyodslro.supabase.co/rest/v1/Calendrier?id_match=eq.180&season=eq.2024&round=eq.20 \"HTTP/2 200 OK\"\n",
      "INFO:httpx:HTTP Request: DELETE https://wfevzenqmhhinyodslro.supabase.co/rest/v1/Calendrier?id_match=eq.181&season=eq.2024&round=eq.21 \"HTTP/2 200 OK\"\n",
      "INFO:httpx:HTTP Request: DELETE https://wfevzenqmhhinyodslro.supabase.co/rest/v1/Calendrier?id_match=eq.182&season=eq.2024&round=eq.21 \"HTTP/2 200 OK\"\n",
      "INFO:httpx:HTTP Request: DELETE https://wfevzenqmhhinyodslro.supabase.co/rest/v1/Calendrier?id_match=eq.183&season=eq.2024&round=eq.21 \"HTTP/2 200 OK\"\n",
      "INFO:httpx:HTTP Request: DELETE https://wfevzenqmhhinyodslro.supabase.co/rest/v1/Calendrier?id_match=eq.184&season=eq.2024&round=eq.21 \"HTTP/2 200 OK\"\n",
      "INFO:httpx:HTTP Request: DELETE https://wfevzenqmhhinyodslro.supabase.co/rest/v1/Calendrier?id_match=eq.186&season=eq.2024&round=eq.21 \"HTTP/2 200 OK\"\n",
      "INFO:httpx:HTTP Request: DELETE https://wfevzenqmhhinyodslro.supabase.co/rest/v1/Calendrier?id_match=eq.187&season=eq.2024&round=eq.21 \"HTTP/2 200 OK\"\n",
      "INFO:httpx:HTTP Request: DELETE https://wfevzenqmhhinyodslro.supabase.co/rest/v1/Calendrier?id_match=eq.188&season=eq.2024&round=eq.21 \"HTTP/2 200 OK\"\n",
      "INFO:httpx:HTTP Request: DELETE https://wfevzenqmhhinyodslro.supabase.co/rest/v1/Calendrier?id_match=eq.189&season=eq.2024&round=eq.21 \"HTTP/2 200 OK\"\n",
      "INFO:httpx:HTTP Request: DELETE https://wfevzenqmhhinyodslro.supabase.co/rest/v1/Calendrier?id_match=eq.190&season=eq.2024&round=eq.22 \"HTTP/2 200 OK\"\n",
      "INFO:httpx:HTTP Request: DELETE https://wfevzenqmhhinyodslro.supabase.co/rest/v1/Calendrier?id_match=eq.191&season=eq.2024&round=eq.22 \"HTTP/2 200 OK\"\n",
      "INFO:httpx:HTTP Request: DELETE https://wfevzenqmhhinyodslro.supabase.co/rest/v1/Calendrier?id_match=eq.193&season=eq.2024&round=eq.22 \"HTTP/2 200 OK\"\n",
      "INFO:httpx:HTTP Request: DELETE https://wfevzenqmhhinyodslro.supabase.co/rest/v1/Calendrier?id_match=eq.194&season=eq.2024&round=eq.22 \"HTTP/2 200 OK\"\n",
      "INFO:httpx:HTTP Request: DELETE https://wfevzenqmhhinyodslro.supabase.co/rest/v1/Calendrier?id_match=eq.196&season=eq.2024&round=eq.22 \"HTTP/2 200 OK\"\n",
      "INFO:httpx:HTTP Request: DELETE https://wfevzenqmhhinyodslro.supabase.co/rest/v1/Calendrier?id_match=eq.198&season=eq.2024&round=eq.22 \"HTTP/2 200 OK\"\n",
      "INFO:httpx:HTTP Request: DELETE https://wfevzenqmhhinyodslro.supabase.co/rest/v1/Calendrier?id_match=eq.199&season=eq.2024&round=eq.23 \"HTTP/2 200 OK\"\n",
      "INFO:httpx:HTTP Request: DELETE https://wfevzenqmhhinyodslro.supabase.co/rest/v1/Calendrier?id_match=eq.200&season=eq.2024&round=eq.23 \"HTTP/2 200 OK\"\n",
      "INFO:httpx:HTTP Request: DELETE https://wfevzenqmhhinyodslro.supabase.co/rest/v1/Calendrier?id_match=eq.201&season=eq.2024&round=eq.23 \"HTTP/2 200 OK\"\n",
      "INFO:httpx:HTTP Request: DELETE https://wfevzenqmhhinyodslro.supabase.co/rest/v1/Calendrier?id_match=eq.202&season=eq.2024&round=eq.23 \"HTTP/2 200 OK\"\n",
      "INFO:httpx:HTTP Request: DELETE https://wfevzenqmhhinyodslro.supabase.co/rest/v1/Calendrier?id_match=eq.203&season=eq.2024&round=eq.23 \"HTTP/2 200 OK\"\n",
      "INFO:httpx:HTTP Request: DELETE https://wfevzenqmhhinyodslro.supabase.co/rest/v1/Calendrier?id_match=eq.204&season=eq.2024&round=eq.23 \"HTTP/2 200 OK\"\n",
      "INFO:httpx:HTTP Request: DELETE https://wfevzenqmhhinyodslro.supabase.co/rest/v1/Calendrier?id_match=eq.206&season=eq.2024&round=eq.23 \"HTTP/2 200 OK\"\n",
      "INFO:httpx:HTTP Request: DELETE https://wfevzenqmhhinyodslro.supabase.co/rest/v1/Calendrier?id_match=eq.207&season=eq.2024&round=eq.23 \"HTTP/2 200 OK\"\n",
      "INFO:httpx:HTTP Request: DELETE https://wfevzenqmhhinyodslro.supabase.co/rest/v1/Calendrier?id_match=eq.208&season=eq.2024&round=eq.24 \"HTTP/2 200 OK\"\n",
      "INFO:httpx:HTTP Request: DELETE https://wfevzenqmhhinyodslro.supabase.co/rest/v1/Calendrier?id_match=eq.209&season=eq.2024&round=eq.24 \"HTTP/2 200 OK\"\n",
      "INFO:httpx:HTTP Request: DELETE https://wfevzenqmhhinyodslro.supabase.co/rest/v1/Calendrier?id_match=eq.210&season=eq.2024&round=eq.24 \"HTTP/2 200 OK\"\n",
      "INFO:httpx:HTTP Request: DELETE https://wfevzenqmhhinyodslro.supabase.co/rest/v1/Calendrier?id_match=eq.211&season=eq.2024&round=eq.24 \"HTTP/2 200 OK\"\n",
      "INFO:httpx:HTTP Request: DELETE https://wfevzenqmhhinyodslro.supabase.co/rest/v1/Calendrier?id_match=eq.212&season=eq.2024&round=eq.24 \"HTTP/2 200 OK\"\n",
      "INFO:httpx:HTTP Request: DELETE https://wfevzenqmhhinyodslro.supabase.co/rest/v1/Calendrier?id_match=eq.214&season=eq.2024&round=eq.24 \"HTTP/2 200 OK\"\n",
      "INFO:httpx:HTTP Request: DELETE https://wfevzenqmhhinyodslro.supabase.co/rest/v1/Calendrier?id_match=eq.215&season=eq.2024&round=eq.24 \"HTTP/2 200 OK\"\n",
      "INFO:httpx:HTTP Request: DELETE https://wfevzenqmhhinyodslro.supabase.co/rest/v1/Calendrier?id_match=eq.216&season=eq.2024&round=eq.24 \"HTTP/2 200 OK\"\n",
      "INFO:httpx:HTTP Request: DELETE https://wfevzenqmhhinyodslro.supabase.co/rest/v1/Calendrier?id_match=eq.217&season=eq.2024&round=eq.25 \"HTTP/2 200 OK\"\n",
      "INFO:httpx:HTTP Request: DELETE https://wfevzenqmhhinyodslro.supabase.co/rest/v1/Calendrier?id_match=eq.218&season=eq.2024&round=eq.25 \"HTTP/2 200 OK\"\n",
      "INFO:httpx:HTTP Request: DELETE https://wfevzenqmhhinyodslro.supabase.co/rest/v1/Calendrier?id_match=eq.219&season=eq.2024&round=eq.25 \"HTTP/2 200 OK\"\n",
      "INFO:httpx:HTTP Request: DELETE https://wfevzenqmhhinyodslro.supabase.co/rest/v1/Calendrier?id_match=eq.221&season=eq.2024&round=eq.25 \"HTTP/2 200 OK\"\n",
      "INFO:httpx:HTTP Request: DELETE https://wfevzenqmhhinyodslro.supabase.co/rest/v1/Calendrier?id_match=eq.222&season=eq.2024&round=eq.25 \"HTTP/2 200 OK\"\n",
      "INFO:httpx:HTTP Request: DELETE https://wfevzenqmhhinyodslro.supabase.co/rest/v1/Calendrier?id_match=eq.223&season=eq.2024&round=eq.25 \"HTTP/2 200 OK\"\n",
      "INFO:httpx:HTTP Request: DELETE https://wfevzenqmhhinyodslro.supabase.co/rest/v1/Calendrier?id_match=eq.224&season=eq.2024&round=eq.25 \"HTTP/2 200 OK\"\n",
      "INFO:httpx:HTTP Request: DELETE https://wfevzenqmhhinyodslro.supabase.co/rest/v1/Calendrier?id_match=eq.225&season=eq.2024&round=eq.25 \"HTTP/2 200 OK\"\n",
      "INFO:httpx:HTTP Request: DELETE https://wfevzenqmhhinyodslro.supabase.co/rest/v1/Calendrier?id_match=eq.227&season=eq.2024&round=eq.26 \"HTTP/2 200 OK\"\n",
      "INFO:httpx:HTTP Request: DELETE https://wfevzenqmhhinyodslro.supabase.co/rest/v1/Calendrier?id_match=eq.229&season=eq.2024&round=eq.26 \"HTTP/2 200 OK\"\n",
      "INFO:httpx:HTTP Request: DELETE https://wfevzenqmhhinyodslro.supabase.co/rest/v1/Calendrier?id_match=eq.228&season=eq.2024&round=eq.26 \"HTTP/2 200 OK\"\n",
      "INFO:httpx:HTTP Request: DELETE https://wfevzenqmhhinyodslro.supabase.co/rest/v1/Calendrier?id_match=eq.230&season=eq.2024&round=eq.26 \"HTTP/2 200 OK\"\n",
      "INFO:httpx:HTTP Request: DELETE https://wfevzenqmhhinyodslro.supabase.co/rest/v1/Calendrier?id_match=eq.231&season=eq.2024&round=eq.26 \"HTTP/2 200 OK\"\n",
      "INFO:httpx:HTTP Request: DELETE https://wfevzenqmhhinyodslro.supabase.co/rest/v1/Calendrier?id_match=eq.232&season=eq.2024&round=eq.26 \"HTTP/2 200 OK\"\n",
      "INFO:httpx:HTTP Request: DELETE https://wfevzenqmhhinyodslro.supabase.co/rest/v1/Calendrier?id_match=eq.233&season=eq.2024&round=eq.26 \"HTTP/2 200 OK\"\n",
      "INFO:httpx:HTTP Request: DELETE https://wfevzenqmhhinyodslro.supabase.co/rest/v1/Calendrier?id_match=eq.236&season=eq.2024&round=eq.27 \"HTTP/2 200 OK\"\n",
      "INFO:httpx:HTTP Request: DELETE https://wfevzenqmhhinyodslro.supabase.co/rest/v1/Calendrier?id_match=eq.234&season=eq.2024&round=eq.26 \"HTTP/2 200 OK\"\n",
      "INFO:httpx:HTTP Request: DELETE https://wfevzenqmhhinyodslro.supabase.co/rest/v1/Calendrier?id_match=eq.237&season=eq.2024&round=eq.27 \"HTTP/2 200 OK\"\n",
      "INFO:httpx:HTTP Request: DELETE https://wfevzenqmhhinyodslro.supabase.co/rest/v1/Calendrier?id_match=eq.238&season=eq.2024&round=eq.27 \"HTTP/2 200 OK\"\n",
      "INFO:httpx:HTTP Request: DELETE https://wfevzenqmhhinyodslro.supabase.co/rest/v1/Calendrier?id_match=eq.240&season=eq.2024&round=eq.27 \"HTTP/2 200 OK\"\n",
      "INFO:httpx:HTTP Request: DELETE https://wfevzenqmhhinyodslro.supabase.co/rest/v1/Calendrier?id_match=eq.239&season=eq.2024&round=eq.27 \"HTTP/2 200 OK\"\n",
      "INFO:httpx:HTTP Request: DELETE https://wfevzenqmhhinyodslro.supabase.co/rest/v1/Calendrier?id_match=eq.241&season=eq.2024&round=eq.27 \"HTTP/2 200 OK\"\n",
      "INFO:httpx:HTTP Request: DELETE https://wfevzenqmhhinyodslro.supabase.co/rest/v1/Calendrier?id_match=eq.242&season=eq.2024&round=eq.27 \"HTTP/2 200 OK\"\n",
      "INFO:httpx:HTTP Request: DELETE https://wfevzenqmhhinyodslro.supabase.co/rest/v1/Calendrier?id_match=eq.244&season=eq.2024&round=eq.28 \"HTTP/2 200 OK\"\n",
      "INFO:httpx:HTTP Request: DELETE https://wfevzenqmhhinyodslro.supabase.co/rest/v1/Calendrier?id_match=eq.245&season=eq.2024&round=eq.28 \"HTTP/2 200 OK\"\n",
      "INFO:httpx:HTTP Request: DELETE https://wfevzenqmhhinyodslro.supabase.co/rest/v1/Calendrier?id_match=eq.246&season=eq.2024&round=eq.28 \"HTTP/2 200 OK\"\n",
      "INFO:httpx:HTTP Request: DELETE https://wfevzenqmhhinyodslro.supabase.co/rest/v1/Calendrier?id_match=eq.247&season=eq.2024&round=eq.28 \"HTTP/2 200 OK\"\n",
      "INFO:httpx:HTTP Request: DELETE https://wfevzenqmhhinyodslro.supabase.co/rest/v1/Calendrier?id_match=eq.248&season=eq.2024&round=eq.28 \"HTTP/2 200 OK\"\n",
      "INFO:httpx:HTTP Request: DELETE https://wfevzenqmhhinyodslro.supabase.co/rest/v1/Calendrier?id_match=eq.249&season=eq.2024&round=eq.28 \"HTTP/2 200 OK\"\n",
      "INFO:httpx:HTTP Request: DELETE https://wfevzenqmhhinyodslro.supabase.co/rest/v1/Calendrier?id_match=eq.251&season=eq.2024&round=eq.28 \"HTTP/2 200 OK\"\n",
      "INFO:httpx:HTTP Request: DELETE https://wfevzenqmhhinyodslro.supabase.co/rest/v1/Calendrier?id_match=eq.252&season=eq.2024&round=eq.28 \"HTTP/2 200 OK\"\n",
      "INFO:httpx:HTTP Request: DELETE https://wfevzenqmhhinyodslro.supabase.co/rest/v1/Calendrier?id_match=eq.253&season=eq.2024&round=eq.29 \"HTTP/2 200 OK\"\n",
      "INFO:httpx:HTTP Request: DELETE https://wfevzenqmhhinyodslro.supabase.co/rest/v1/Calendrier?id_match=eq.254&season=eq.2024&round=eq.29 \"HTTP/2 200 OK\"\n",
      "INFO:httpx:HTTP Request: DELETE https://wfevzenqmhhinyodslro.supabase.co/rest/v1/Calendrier?id_match=eq.255&season=eq.2024&round=eq.29 \"HTTP/2 200 OK\"\n",
      "INFO:httpx:HTTP Request: DELETE https://wfevzenqmhhinyodslro.supabase.co/rest/v1/Calendrier?id_match=eq.256&season=eq.2024&round=eq.29 \"HTTP/2 200 OK\"\n",
      "INFO:httpx:HTTP Request: DELETE https://wfevzenqmhhinyodslro.supabase.co/rest/v1/Calendrier?id_match=eq.259&season=eq.2024&round=eq.29 \"HTTP/2 200 OK\"\n",
      "INFO:httpx:HTTP Request: DELETE https://wfevzenqmhhinyodslro.supabase.co/rest/v1/Calendrier?id_match=eq.258&season=eq.2024&round=eq.29 \"HTTP/2 200 OK\"\n",
      "INFO:httpx:HTTP Request: DELETE https://wfevzenqmhhinyodslro.supabase.co/rest/v1/Calendrier?id_match=eq.260&season=eq.2024&round=eq.29 \"HTTP/2 200 OK\"\n",
      "INFO:httpx:HTTP Request: DELETE https://wfevzenqmhhinyodslro.supabase.co/rest/v1/Calendrier?id_match=eq.261&season=eq.2024&round=eq.29 \"HTTP/2 200 OK\"\n",
      "INFO:httpx:HTTP Request: DELETE https://wfevzenqmhhinyodslro.supabase.co/rest/v1/Calendrier?id_match=eq.262&season=eq.2024&round=eq.30 \"HTTP/2 200 OK\"\n",
      "INFO:httpx:HTTP Request: DELETE https://wfevzenqmhhinyodslro.supabase.co/rest/v1/Calendrier?id_match=eq.263&season=eq.2024&round=eq.30 \"HTTP/2 200 OK\"\n",
      "INFO:httpx:HTTP Request: DELETE https://wfevzenqmhhinyodslro.supabase.co/rest/v1/Calendrier?id_match=eq.264&season=eq.2024&round=eq.30 \"HTTP/2 200 OK\"\n",
      "INFO:httpx:HTTP Request: DELETE https://wfevzenqmhhinyodslro.supabase.co/rest/v1/Calendrier?id_match=eq.265&season=eq.2024&round=eq.30 \"HTTP/2 200 OK\"\n",
      "INFO:httpx:HTTP Request: DELETE https://wfevzenqmhhinyodslro.supabase.co/rest/v1/Calendrier?id_match=eq.267&season=eq.2024&round=eq.30 \"HTTP/2 200 OK\"\n",
      "INFO:httpx:HTTP Request: DELETE https://wfevzenqmhhinyodslro.supabase.co/rest/v1/Calendrier?id_match=eq.268&season=eq.2024&round=eq.30 \"HTTP/2 200 OK\"\n",
      "INFO:httpx:HTTP Request: DELETE https://wfevzenqmhhinyodslro.supabase.co/rest/v1/Calendrier?id_match=eq.269&season=eq.2024&round=eq.30 \"HTTP/2 200 OK\"\n",
      "INFO:httpx:HTTP Request: DELETE https://wfevzenqmhhinyodslro.supabase.co/rest/v1/Calendrier?id_match=eq.270&season=eq.2024&round=eq.30 \"HTTP/2 200 OK\"\n",
      "INFO:httpx:HTTP Request: DELETE https://wfevzenqmhhinyodslro.supabase.co/rest/v1/Calendrier?id_match=eq.271&season=eq.2024&round=eq.31 \"HTTP/2 200 OK\"\n",
      "INFO:httpx:HTTP Request: DELETE https://wfevzenqmhhinyodslro.supabase.co/rest/v1/Calendrier?id_match=eq.272&season=eq.2024&round=eq.31 \"HTTP/2 200 OK\"\n",
      "INFO:httpx:HTTP Request: DELETE https://wfevzenqmhhinyodslro.supabase.co/rest/v1/Calendrier?id_match=eq.273&season=eq.2024&round=eq.31 \"HTTP/2 200 OK\"\n",
      "INFO:httpx:HTTP Request: DELETE https://wfevzenqmhhinyodslro.supabase.co/rest/v1/Calendrier?id_match=eq.275&season=eq.2024&round=eq.31 \"HTTP/2 200 OK\"\n",
      "INFO:httpx:HTTP Request: DELETE https://wfevzenqmhhinyodslro.supabase.co/rest/v1/Calendrier?id_match=eq.276&season=eq.2024&round=eq.31 \"HTTP/2 200 OK\"\n",
      "INFO:httpx:HTTP Request: DELETE https://wfevzenqmhhinyodslro.supabase.co/rest/v1/Calendrier?id_match=eq.277&season=eq.2024&round=eq.31 \"HTTP/2 200 OK\"\n",
      "INFO:httpx:HTTP Request: DELETE https://wfevzenqmhhinyodslro.supabase.co/rest/v1/Calendrier?id_match=eq.280&season=eq.2024&round=eq.32 \"HTTP/2 200 OK\"\n",
      "INFO:httpx:HTTP Request: DELETE https://wfevzenqmhhinyodslro.supabase.co/rest/v1/Calendrier?id_match=eq.279&season=eq.2024&round=eq.31 \"HTTP/2 200 OK\"\n",
      "INFO:httpx:HTTP Request: DELETE https://wfevzenqmhhinyodslro.supabase.co/rest/v1/Calendrier?id_match=eq.278&season=eq.2024&round=eq.31 \"HTTP/2 200 OK\"\n",
      "INFO:httpx:HTTP Request: DELETE https://wfevzenqmhhinyodslro.supabase.co/rest/v1/Calendrier?id_match=eq.281&season=eq.2024&round=eq.32 \"HTTP/2 200 OK\"\n",
      "INFO:httpx:HTTP Request: DELETE https://wfevzenqmhhinyodslro.supabase.co/rest/v1/Calendrier?id_match=eq.286&season=eq.2024&round=eq.32 \"HTTP/2 200 OK\"\n",
      "INFO:httpx:HTTP Request: DELETE https://wfevzenqmhhinyodslro.supabase.co/rest/v1/Calendrier?id_match=eq.283&season=eq.2024&round=eq.32 \"HTTP/2 200 OK\"\n",
      "INFO:httpx:HTTP Request: DELETE https://wfevzenqmhhinyodslro.supabase.co/rest/v1/Calendrier?id_match=eq.285&season=eq.2024&round=eq.32 \"HTTP/2 200 OK\"\n",
      "INFO:httpx:HTTP Request: DELETE https://wfevzenqmhhinyodslro.supabase.co/rest/v1/Calendrier?id_match=eq.284&season=eq.2024&round=eq.32 \"HTTP/2 200 OK\"\n",
      "INFO:httpx:HTTP Request: DELETE https://wfevzenqmhhinyodslro.supabase.co/rest/v1/Calendrier?id_match=eq.287&season=eq.2024&round=eq.32 \"HTTP/2 200 OK\"\n",
      "INFO:httpx:HTTP Request: DELETE https://wfevzenqmhhinyodslro.supabase.co/rest/v1/Calendrier?id_match=eq.288&season=eq.2024&round=eq.32 \"HTTP/2 200 OK\"\n",
      "INFO:httpx:HTTP Request: DELETE https://wfevzenqmhhinyodslro.supabase.co/rest/v1/Calendrier?id_match=eq.290&season=eq.2024&round=eq.33 \"HTTP/2 200 OK\"\n",
      "INFO:httpx:HTTP Request: DELETE https://wfevzenqmhhinyodslro.supabase.co/rest/v1/Calendrier?id_match=eq.291&season=eq.2024&round=eq.33 \"HTTP/2 200 OK\"\n",
      "INFO:httpx:HTTP Request: DELETE https://wfevzenqmhhinyodslro.supabase.co/rest/v1/Calendrier?id_match=eq.1&season=eq.2024&round=eq.1 \"HTTP/2 200 OK\"\n",
      "INFO:httpx:HTTP Request: DELETE https://wfevzenqmhhinyodslro.supabase.co/rest/v1/Calendrier?id_match=eq.3&season=eq.2024&round=eq.1 \"HTTP/2 200 OK\"\n",
      "INFO:httpx:HTTP Request: DELETE https://wfevzenqmhhinyodslro.supabase.co/rest/v1/Calendrier?id_match=eq.11&season=eq.2024&round=eq.2 \"HTTP/2 200 OK\"\n",
      "INFO:httpx:HTTP Request: DELETE https://wfevzenqmhhinyodslro.supabase.co/rest/v1/Calendrier?id_match=eq.19&season=eq.2024&round=eq.3 \"HTTP/2 200 OK\"\n",
      "INFO:httpx:HTTP Request: DELETE https://wfevzenqmhhinyodslro.supabase.co/rest/v1/Calendrier?id_match=eq.24&season=eq.2024&round=eq.3 \"HTTP/2 200 OK\"\n",
      "INFO:httpx:HTTP Request: DELETE https://wfevzenqmhhinyodslro.supabase.co/rest/v1/Calendrier?id_match=eq.34&season=eq.2024&round=eq.4 \"HTTP/2 200 OK\"\n",
      "INFO:httpx:HTTP Request: DELETE https://wfevzenqmhhinyodslro.supabase.co/rest/v1/Calendrier?id_match=eq.42&season=eq.2024&round=eq.5 \"HTTP/2 200 OK\"\n",
      "INFO:httpx:HTTP Request: DELETE https://wfevzenqmhhinyodslro.supabase.co/rest/v1/Calendrier?id_match=eq.49&season=eq.2024&round=eq.6 \"HTTP/2 200 OK\"\n",
      "INFO:httpx:HTTP Request: DELETE https://wfevzenqmhhinyodslro.supabase.co/rest/v1/Calendrier?id_match=eq.58&season=eq.2024&round=eq.7 \"HTTP/2 200 OK\"\n",
      "INFO:httpx:HTTP Request: DELETE https://wfevzenqmhhinyodslro.supabase.co/rest/v1/Calendrier?id_match=eq.65&season=eq.2024&round=eq.8 \"HTTP/2 200 OK\"\n",
      "INFO:httpx:HTTP Request: DELETE https://wfevzenqmhhinyodslro.supabase.co/rest/v1/Calendrier?id_match=eq.70&season=eq.2024&round=eq.8 \"HTTP/2 200 OK\"\n",
      "INFO:httpx:HTTP Request: DELETE https://wfevzenqmhhinyodslro.supabase.co/rest/v1/Calendrier?id_match=eq.80&season=eq.2024&round=eq.9 \"HTTP/2 200 OK\"\n",
      "INFO:httpx:HTTP Request: DELETE https://wfevzenqmhhinyodslro.supabase.co/rest/v1/Calendrier?id_match=eq.88&season=eq.2024&round=eq.10 \"HTTP/2 200 OK\"\n",
      "INFO:httpx:HTTP Request: DELETE https://wfevzenqmhhinyodslro.supabase.co/rest/v1/Calendrier?id_match=eq.95&season=eq.2024&round=eq.11 \"HTTP/2 200 OK\"\n",
      "INFO:httpx:HTTP Request: DELETE https://wfevzenqmhhinyodslro.supabase.co/rest/v1/Calendrier?id_match=eq.98&season=eq.2024&round=eq.11 \"HTTP/2 200 OK\"\n",
      "INFO:httpx:HTTP Request: DELETE https://wfevzenqmhhinyodslro.supabase.co/rest/v1/Calendrier?id_match=eq.100&season=eq.2024&round=eq.12 \"HTTP/2 200 OK\"\n",
      "INFO:httpx:HTTP Request: DELETE https://wfevzenqmhhinyodslro.supabase.co/rest/v1/Calendrier?id_match=eq.108&season=eq.2024&round=eq.12 \"HTTP/2 200 OK\"\n",
      "INFO:httpx:HTTP Request: DELETE https://wfevzenqmhhinyodslro.supabase.co/rest/v1/Calendrier?id_match=eq.116&season=eq.2024&round=eq.13 \"HTTP/2 200 OK\"\n",
      "INFO:httpx:HTTP Request: DELETE https://wfevzenqmhhinyodslro.supabase.co/rest/v1/Calendrier?id_match=eq.124&season=eq.2024&round=eq.14 \"HTTP/2 200 OK\"\n",
      "INFO:httpx:HTTP Request: DELETE https://wfevzenqmhhinyodslro.supabase.co/rest/v1/Calendrier?id_match=eq.131&season=eq.2024&round=eq.15 \"HTTP/2 200 OK\"\n",
      "INFO:httpx:HTTP Request: DELETE https://wfevzenqmhhinyodslro.supabase.co/rest/v1/Calendrier?id_match=eq.136&season=eq.2024&round=eq.16 \"HTTP/2 200 OK\"\n",
      "INFO:httpx:HTTP Request: DELETE https://wfevzenqmhhinyodslro.supabase.co/rest/v1/Calendrier?id_match=eq.146&season=eq.2024&round=eq.17 \"HTTP/2 200 OK\"\n",
      "INFO:httpx:HTTP Request: DELETE https://wfevzenqmhhinyodslro.supabase.co/rest/v1/Calendrier?id_match=eq.154&season=eq.2024&round=eq.18 \"HTTP/2 200 OK\"\n",
      "INFO:httpx:HTTP Request: DELETE https://wfevzenqmhhinyodslro.supabase.co/rest/v1/Calendrier?id_match=eq.162&season=eq.2024&round=eq.18 \"HTTP/2 200 OK\"\n",
      "INFO:httpx:HTTP Request: DELETE https://wfevzenqmhhinyodslro.supabase.co/rest/v1/Calendrier?id_match=eq.169&season=eq.2024&round=eq.19 \"HTTP/2 200 OK\"\n",
      "INFO:httpx:HTTP Request: DELETE https://wfevzenqmhhinyodslro.supabase.co/rest/v1/Calendrier?id_match=eq.177&season=eq.2024&round=eq.20 \"HTTP/2 200 OK\"\n",
      "INFO:httpx:HTTP Request: DELETE https://wfevzenqmhhinyodslro.supabase.co/rest/v1/Calendrier?id_match=eq.185&season=eq.2024&round=eq.21 \"HTTP/2 200 OK\"\n",
      "INFO:httpx:HTTP Request: DELETE https://wfevzenqmhhinyodslro.supabase.co/rest/v1/Calendrier?id_match=eq.192&season=eq.2024&round=eq.22 \"HTTP/2 200 OK\"\n",
      "INFO:httpx:HTTP Request: DELETE https://wfevzenqmhhinyodslro.supabase.co/rest/v1/Calendrier?id_match=eq.195&season=eq.2024&round=eq.22 \"HTTP/2 200 OK\"\n",
      "INFO:httpx:HTTP Request: DELETE https://wfevzenqmhhinyodslro.supabase.co/rest/v1/Calendrier?id_match=eq.197&season=eq.2024&round=eq.22 \"HTTP/2 200 OK\"\n",
      "INFO:httpx:HTTP Request: DELETE https://wfevzenqmhhinyodslro.supabase.co/rest/v1/Calendrier?id_match=eq.205&season=eq.2024&round=eq.23 \"HTTP/2 200 OK\"\n",
      "INFO:httpx:HTTP Request: DELETE https://wfevzenqmhhinyodslro.supabase.co/rest/v1/Calendrier?id_match=eq.213&season=eq.2024&round=eq.24 \"HTTP/2 200 OK\"\n",
      "INFO:httpx:HTTP Request: DELETE https://wfevzenqmhhinyodslro.supabase.co/rest/v1/Calendrier?id_match=eq.220&season=eq.2024&round=eq.25 \"HTTP/2 200 OK\"\n",
      "INFO:httpx:HTTP Request: DELETE https://wfevzenqmhhinyodslro.supabase.co/rest/v1/Calendrier?id_match=eq.226&season=eq.2024&round=eq.26 \"HTTP/2 200 OK\"\n",
      "INFO:httpx:HTTP Request: DELETE https://wfevzenqmhhinyodslro.supabase.co/rest/v1/Calendrier?id_match=eq.235&season=eq.2024&round=eq.27 \"HTTP/2 200 OK\"\n",
      "INFO:httpx:HTTP Request: DELETE https://wfevzenqmhhinyodslro.supabase.co/rest/v1/Calendrier?id_match=eq.243&season=eq.2024&round=eq.27 \"HTTP/2 200 OK\"\n",
      "INFO:httpx:HTTP Request: DELETE https://wfevzenqmhhinyodslro.supabase.co/rest/v1/Calendrier?id_match=eq.250&season=eq.2024&round=eq.28 \"HTTP/2 200 OK\"\n",
      "INFO:httpx:HTTP Request: DELETE https://wfevzenqmhhinyodslro.supabase.co/rest/v1/Calendrier?id_match=eq.257&season=eq.2024&round=eq.29 \"HTTP/2 200 OK\"\n",
      "INFO:httpx:HTTP Request: DELETE https://wfevzenqmhhinyodslro.supabase.co/rest/v1/Calendrier?id_match=eq.266&season=eq.2024&round=eq.30 \"HTTP/2 200 OK\"\n",
      "INFO:httpx:HTTP Request: DELETE https://wfevzenqmhhinyodslro.supabase.co/rest/v1/Calendrier?id_match=eq.274&season=eq.2024&round=eq.31 \"HTTP/2 200 OK\"\n",
      "INFO:httpx:HTTP Request: DELETE https://wfevzenqmhhinyodslro.supabase.co/rest/v1/Calendrier?id_match=eq.282&season=eq.2024&round=eq.32 \"HTTP/2 200 OK\"\n",
      "INFO:httpx:HTTP Request: DELETE https://wfevzenqmhhinyodslro.supabase.co/rest/v1/Calendrier?id_match=eq.289&season=eq.2024&round=eq.33 \"HTTP/2 200 OK\"\n",
      "INFO:httpx:HTTP Request: DELETE https://wfevzenqmhhinyodslro.supabase.co/rest/v1/Calendrier?id_match=eq.293&season=eq.2024&round=eq.33 \"HTTP/2 200 OK\"\n",
      "INFO:httpx:HTTP Request: DELETE https://wfevzenqmhhinyodslro.supabase.co/rest/v1/Calendrier?id_match=eq.294&season=eq.2024&round=eq.33 \"HTTP/2 200 OK\"\n",
      "INFO:httpx:HTTP Request: DELETE https://wfevzenqmhhinyodslro.supabase.co/rest/v1/Calendrier?id_match=eq.303&season=eq.2024&round=eq.34 \"HTTP/2 200 OK\"\n",
      "INFO:httpx:HTTP Request: DELETE https://wfevzenqmhhinyodslro.supabase.co/rest/v1/Calendrier?id_match=eq.295&season=eq.2024&round=eq.33 \"HTTP/2 200 OK\"\n",
      "INFO:httpx:HTTP Request: DELETE https://wfevzenqmhhinyodslro.supabase.co/rest/v1/Calendrier?id_match=eq.292&season=eq.2024&round=eq.33 \"HTTP/2 200 OK\"\n",
      "INFO:httpx:HTTP Request: DELETE https://wfevzenqmhhinyodslro.supabase.co/rest/v1/Calendrier?id_match=eq.296&season=eq.2024&round=eq.33 \"HTTP/2 200 OK\"\n",
      "INFO:httpx:HTTP Request: DELETE https://wfevzenqmhhinyodslro.supabase.co/rest/v1/Calendrier?id_match=eq.297&season=eq.2024&round=eq.33 \"HTTP/2 200 OK\"\n",
      "INFO:httpx:HTTP Request: DELETE https://wfevzenqmhhinyodslro.supabase.co/rest/v1/Calendrier?id_match=eq.298&season=eq.2024&round=eq.34 \"HTTP/2 200 OK\"\n",
      "INFO:httpx:HTTP Request: DELETE https://wfevzenqmhhinyodslro.supabase.co/rest/v1/Calendrier?id_match=eq.299&season=eq.2024&round=eq.34 \"HTTP/2 200 OK\"\n",
      "INFO:httpx:HTTP Request: DELETE https://wfevzenqmhhinyodslro.supabase.co/rest/v1/Calendrier?id_match=eq.300&season=eq.2024&round=eq.34 \"HTTP/2 200 OK\"\n",
      "INFO:httpx:HTTP Request: DELETE https://wfevzenqmhhinyodslro.supabase.co/rest/v1/Calendrier?id_match=eq.304&season=eq.2024&round=eq.34 \"HTTP/2 200 OK\"\n",
      "INFO:httpx:HTTP Request: DELETE https://wfevzenqmhhinyodslro.supabase.co/rest/v1/Calendrier?id_match=eq.301&season=eq.2024&round=eq.34 \"HTTP/2 200 OK\"\n",
      "INFO:httpx:HTTP Request: DELETE https://wfevzenqmhhinyodslro.supabase.co/rest/v1/Calendrier?id_match=eq.302&season=eq.2024&round=eq.34 \"HTTP/2 200 OK\"\n",
      "INFO:httpx:HTTP Request: DELETE https://wfevzenqmhhinyodslro.supabase.co/rest/v1/Calendrier?id_match=eq.305&season=eq.2024&round=eq.34 \"HTTP/2 200 OK\"\n",
      "INFO:httpx:HTTP Request: DELETE https://wfevzenqmhhinyodslro.supabase.co/rest/v1/Calendrier?id_match=eq.306&season=eq.2024&round=eq.34 \"HTTP/2 200 OK\"\n",
      "INFO:httpx:HTTP Request: DELETE https://wfevzenqmhhinyodslro.supabase.co/rest/v1/Calendrier?id_match=eq.307&season=eq.2024&round=eq.35 \"HTTP/2 200 OK\"\n",
      "INFO:httpx:HTTP Request: DELETE https://wfevzenqmhhinyodslro.supabase.co/rest/v1/Calendrier?id_match=eq.308&season=eq.2024&round=eq.35 \"HTTP/2 200 OK\"\n",
      "INFO:httpx:HTTP Request: DELETE https://wfevzenqmhhinyodslro.supabase.co/rest/v1/Calendrier?id_match=eq.309&season=eq.2024&round=eq.36 \"HTTP/2 200 OK\"\n",
      "INFO:httpx:HTTP Request: DELETE https://wfevzenqmhhinyodslro.supabase.co/rest/v1/Calendrier?id_match=eq.310&season=eq.2024&round=eq.37 \"HTTP/2 200 OK\"\n",
      "INFO:httpx:HTTP Request: DELETE https://wfevzenqmhhinyodslro.supabase.co/rest/v1/Calendrier?id_match=eq.311&season=eq.2024&round=eq.37 \"HTTP/2 200 OK\"\n",
      "INFO:httpx:HTTP Request: DELETE https://wfevzenqmhhinyodslro.supabase.co/rest/v1/Calendrier?id_match=eq.312&season=eq.2024&round=eq.37 \"HTTP/2 200 OK\"\n",
      "INFO:httpx:HTTP Request: DELETE https://wfevzenqmhhinyodslro.supabase.co/rest/v1/Calendrier?id_match=eq.313&season=eq.2024&round=eq.37 \"HTTP/2 200 OK\"\n",
      "INFO:httpx:HTTP Request: DELETE https://wfevzenqmhhinyodslro.supabase.co/rest/v1/Calendrier?id_match=eq.314&season=eq.2024&round=eq.38 \"HTTP/2 200 OK\"\n",
      "INFO:httpx:HTTP Request: DELETE https://wfevzenqmhhinyodslro.supabase.co/rest/v1/Calendrier?id_match=eq.315&season=eq.2024&round=eq.38 \"HTTP/2 200 OK\"\n",
      "INFO:httpx:HTTP Request: DELETE https://wfevzenqmhhinyodslro.supabase.co/rest/v1/Calendrier?id_match=eq.317&season=eq.2024&round=eq.38 \"HTTP/2 200 OK\"\n",
      "INFO:httpx:HTTP Request: DELETE https://wfevzenqmhhinyodslro.supabase.co/rest/v1/Calendrier?id_match=eq.316&season=eq.2024&round=eq.38 \"HTTP/2 200 OK\"\n",
      "INFO:httpx:HTTP Request: DELETE https://wfevzenqmhhinyodslro.supabase.co/rest/v1/Calendrier?id_match=eq.318&season=eq.2024&round=eq.39 \"HTTP/2 200 OK\"\n",
      "INFO:httpx:HTTP Request: DELETE https://wfevzenqmhhinyodslro.supabase.co/rest/v1/Calendrier?id_match=eq.319&season=eq.2024&round=eq.39 \"HTTP/2 200 OK\"\n",
      "INFO:httpx:HTTP Request: DELETE https://wfevzenqmhhinyodslro.supabase.co/rest/v1/Calendrier?id_match=eq.320&season=eq.2024&round=eq.39 \"HTTP/2 200 OK\"\n",
      "INFO:httpx:HTTP Request: DELETE https://wfevzenqmhhinyodslro.supabase.co/rest/v1/Calendrier?id_match=eq.321&season=eq.2024&round=eq.39 \"HTTP/2 200 OK\"\n",
      "INFO:httpx:HTTP Request: DELETE https://wfevzenqmhhinyodslro.supabase.co/rest/v1/Calendrier?id_match=eq.322&season=eq.2024&round=eq.40 \"HTTP/2 200 OK\"\n"
     ]
    },
    {
     "name": "stdout",
     "output_type": "stream",
     "text": [
      "✅ Calendrier nettoyé : doublons supprimés par correspondance avec Match.\n"
     ]
    }
   ],
   "source": [
    "f.get_update_match_data(supabase, season)"
   ]
  }
 ],
 "metadata": {
  "kernelspec": {
   "display_name": "Python 3",
   "language": "python",
   "name": "python3"
  },
  "language_info": {
   "codemirror_mode": {
    "name": "ipython",
    "version": 3
   },
   "file_extension": ".py",
   "mimetype": "text/x-python",
   "name": "python",
   "nbconvert_exporter": "python",
   "pygments_lexer": "ipython3",
   "version": "3.11.9"
  }
 },
 "nbformat": 4,
 "nbformat_minor": 5
}
