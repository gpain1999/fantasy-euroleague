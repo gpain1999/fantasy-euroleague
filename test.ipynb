{
 "cells": [
  {
   "cell_type": "code",
   "execution_count": 1,
   "id": "69e72fe1",
   "metadata": {},
   "outputs": [
    {
     "name": "stderr",
     "output_type": "stream",
     "text": [
      "C:\\Users\\guill\\AppData\\Local\\Packages\\PythonSoftwareFoundation.Python.3.11_qbz5n2kfra8p0\\LocalCache\\local-packages\\Python311\\site-packages\\tqdm\\auto.py:21: TqdmWarning: IProgress not found. Please update jupyter and ipywidgets. See https://ipywidgets.readthedocs.io/en/stable/user_install.html\n",
      "  from .autonotebook import tqdm as notebook_tqdm\n"
     ]
    }
   ],
   "source": [
    "from dotenv import load_dotenv\n",
    "import os\n",
    "from supabase import create_client\n",
    "import fonctions.fonctions_api as f"
   ]
  },
  {
   "cell_type": "code",
   "execution_count": 2,
   "id": "68ab007b",
   "metadata": {},
   "outputs": [],
   "source": [
    "\n",
    "load_dotenv()  # charge le .env\n",
    "url = os.getenv(\"SUPABASE_URL\")\n",
    "key = os.getenv(\"SUPABASE_KEY\")\n",
    "season = os.getenv(\"SEASON\")\n",
    "supabase = create_client(url, key)"
   ]
  },
  {
   "cell_type": "code",
   "execution_count": null,
   "id": "c37833c1",
   "metadata": {},
   "outputs": [
    {
     "name": "stderr",
     "output_type": "stream",
     "text": [
      "INFO:httpx:HTTP Request: GET https://wfevzenqmhhinyodslro.supabase.co/rest/v1/Deadline?select=START%2CEND&START=lte.2025-05-02T20%3A02%3A56.009826%2B02%3A00&END=gte.2025-05-02T20%3A02%3A56.009826%2B02%3A00 \"HTTP/2 200 OK\"\n",
      "INFO:httpx:HTTP Request: GET https://wfevzenqmhhinyodslro.supabase.co/rest/v1/Possession?select=id_possession&id_user=eq.3&id_contrat=eq.335&END=is.null \"HTTP/2 200 OK\"\n",
      "INFO:httpx:HTTP Request: GET https://wfevzenqmhhinyodslro.supabase.co/rest/v1/Possession?select=id_possession&id_user=eq.3&END=is.null \"HTTP/2 200 OK\"\n",
      "INFO:httpx:HTTP Request: GET https://wfevzenqmhhinyodslro.supabase.co/rest/v1/Valeur_Actuelle?select=valeur%2Cdate&id_contrat=eq.335&order=date.desc&limit=1 \"HTTP/2 200 OK\"\n",
      "INFO:httpx:HTTP Request: GET https://wfevzenqmhhinyodslro.supabase.co/rest/v1/Banque?select=solde%2Cdatetime&id_user=eq.3&order=datetime.desc&limit=1 \"HTTP/2 200 OK\"\n"
     ]
    },
    {
     "ename": "Exception",
     "evalue": "❌ Impossible de récupérer le solde bancaire.",
     "output_type": "error",
     "traceback": [
      "\u001b[1;31m---------------------------------------------------------------------------\u001b[0m",
      "\u001b[1;31mException\u001b[0m                                 Traceback (most recent call last)",
      "Cell \u001b[1;32mIn[3], line 1\u001b[0m\n\u001b[1;32m----> 1\u001b[0m \u001b[43mf\u001b[49m\u001b[38;5;241;43m.\u001b[39;49m\u001b[43macheter_joueur\u001b[49m\u001b[43m(\u001b[49m\u001b[43msupabase\u001b[49m\u001b[43m,\u001b[49m\u001b[43m \u001b[49m\u001b[43mid_user\u001b[49m\u001b[43m \u001b[49m\u001b[38;5;241;43m=\u001b[39;49m\u001b[43m \u001b[49m\u001b[38;5;241;43m3\u001b[39;49m\u001b[43m,\u001b[49m\u001b[43m \u001b[49m\u001b[43mid_contrat\u001b[49m\u001b[43m \u001b[49m\u001b[38;5;241;43m=\u001b[39;49m\u001b[43m \u001b[49m\u001b[38;5;241;43m335\u001b[39;49m\u001b[43m)\u001b[49m\n",
      "File \u001b[1;32mc:\\Users\\guill\\OneDrive\\Documents\\Euroleague_Fantasy\\fonctions\\fonctions_api.py:77\u001b[0m, in \u001b[0;36macheter_joueur\u001b[1;34m(supabase, id_user, id_contrat)\u001b[0m\n\u001b[0;32m     69\u001b[0m banque_res \u001b[38;5;241m=\u001b[39m supabase\u001b[38;5;241m.\u001b[39mtable(\u001b[38;5;124m\"\u001b[39m\u001b[38;5;124mBanque\u001b[39m\u001b[38;5;124m\"\u001b[39m) \\\n\u001b[0;32m     70\u001b[0m     \u001b[38;5;241m.\u001b[39mselect(\u001b[38;5;124m\"\u001b[39m\u001b[38;5;124msolde, datetime\u001b[39m\u001b[38;5;124m\"\u001b[39m) \\\n\u001b[0;32m     71\u001b[0m     \u001b[38;5;241m.\u001b[39meq(\u001b[38;5;124m\"\u001b[39m\u001b[38;5;124mid_user\u001b[39m\u001b[38;5;124m\"\u001b[39m, id_user) \\\n\u001b[0;32m     72\u001b[0m     \u001b[38;5;241m.\u001b[39morder(\u001b[38;5;124m\"\u001b[39m\u001b[38;5;124mdatetime\u001b[39m\u001b[38;5;124m\"\u001b[39m, desc\u001b[38;5;241m=\u001b[39m\u001b[38;5;28;01mTrue\u001b[39;00m) \\\n\u001b[0;32m     73\u001b[0m     \u001b[38;5;241m.\u001b[39mlimit(\u001b[38;5;241m1\u001b[39m) \\\n\u001b[0;32m     74\u001b[0m     \u001b[38;5;241m.\u001b[39mexecute()\n\u001b[0;32m     76\u001b[0m \u001b[38;5;28;01mif\u001b[39;00m \u001b[38;5;129;01mnot\u001b[39;00m banque_res\u001b[38;5;241m.\u001b[39mdata:\n\u001b[1;32m---> 77\u001b[0m     \u001b[38;5;28;01mraise\u001b[39;00m \u001b[38;5;167;01mException\u001b[39;00m(\u001b[38;5;124m\"\u001b[39m\u001b[38;5;124m❌ Impossible de récupérer le solde bancaire.\u001b[39m\u001b[38;5;124m\"\u001b[39m)\n\u001b[0;32m     79\u001b[0m solde_actuel \u001b[38;5;241m=\u001b[39m banque_res\u001b[38;5;241m.\u001b[39mdata[\u001b[38;5;241m0\u001b[39m][\u001b[38;5;124m\"\u001b[39m\u001b[38;5;124msolde\u001b[39m\u001b[38;5;124m\"\u001b[39m]\n\u001b[0;32m     81\u001b[0m \u001b[38;5;28;01mif\u001b[39;00m solde_actuel \u001b[38;5;241m<\u001b[39m prix:\n",
      "\u001b[1;31mException\u001b[0m: ❌ Impossible de récupérer le solde bancaire."
     ]
    }
   ],
   "source": [
    "f.acheter_joueur(supabase, id_user = 4, id_contrat = 335)"
   ]
  },
  {
   "cell_type": "code",
   "execution_count": null,
   "id": "8cba2ac6",
   "metadata": {},
   "outputs": [],
   "source": [
    "f.ajouter_user(supabase, pseudo = \"gpain1999\", mot_de_passe = \"Iledefrance75@\", adresse_mail = \"guillaume.pain9@gmail.com\")"
   ]
  },
  {
   "cell_type": "code",
   "execution_count": null,
   "id": "670afaeb",
   "metadata": {},
   "outputs": [],
   "source": [
    "from euroleague_api.game_stats import GameStats\n",
    "\n",
    "gs = GameStats()\n",
    "\n",
    "ggs = gs.get_game_report(season=season, game_code=324)"
   ]
  },
  {
   "cell_type": "code",
   "execution_count": null,
   "id": "753f2956",
   "metadata": {},
   "outputs": [],
   "source": [
    "f.get_update_match_data(supabase, season)"
   ]
  }
 ],
 "metadata": {
  "kernelspec": {
   "display_name": "Python 3",
   "language": "python",
   "name": "python3"
  },
  "language_info": {
   "codemirror_mode": {
    "name": "ipython",
    "version": 3
   },
   "file_extension": ".py",
   "mimetype": "text/x-python",
   "name": "python",
   "nbconvert_exporter": "python",
   "pygments_lexer": "ipython3",
   "version": "3.11.9"
  }
 },
 "nbformat": 4,
 "nbformat_minor": 5
}
