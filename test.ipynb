{
 "cells": [
  {
   "cell_type": "code",
   "execution_count": 2,
   "id": "69e72fe1",
   "metadata": {},
   "outputs": [
    {
     "name": "stderr",
     "output_type": "stream",
     "text": [
      "C:\\Users\\guill\\AppData\\Local\\Packages\\PythonSoftwareFoundation.Python.3.11_qbz5n2kfra8p0\\LocalCache\\local-packages\\Python311\\site-packages\\tqdm\\auto.py:21: TqdmWarning: IProgress not found. Please update jupyter and ipywidgets. See https://ipywidgets.readthedocs.io/en/stable/user_install.html\n",
      "  from .autonotebook import tqdm as notebook_tqdm\n"
     ]
    }
   ],
   "source": [
    "from dotenv import load_dotenv\n",
    "import os\n",
    "from supabase import create_client\n",
    "import fonctions.fonctions_api as f"
   ]
  },
  {
   "cell_type": "code",
   "execution_count": 3,
   "id": "68ab007b",
   "metadata": {},
   "outputs": [],
   "source": [
    "\n",
    "load_dotenv()  # charge le .env\n",
    "url = os.getenv(\"SUPABASE_URL\")\n",
    "key = os.getenv(\"SUPABASE_KEY\")\n",
    "season = os.getenv(\"SEASON\")\n",
    "supabase = create_client(url, key)"
   ]
  },
  {
   "cell_type": "code",
   "execution_count": 4,
   "id": "c37833c1",
   "metadata": {},
   "outputs": [
    {
     "name": "stderr",
     "output_type": "stream",
     "text": [
      "INFO:httpx:HTTP Request: GET https://wfevzenqmhhinyodslro.supabase.co/rest/v1/Deadline?select=START%2CEND&START=lte.2025-05-03T00%3A27%3A05.121860%2B02%3A00&END=gte.2025-05-03T00%3A27%3A05.121860%2B02%3A00 \"HTTP/2 200 OK\"\n",
      "INFO:httpx:HTTP Request: GET https://wfevzenqmhhinyodslro.supabase.co/rest/v1/Possession?select=id_possession&id_user=eq.4&id_contrat=eq.310&END=is.null \"HTTP/2 200 OK\"\n",
      "INFO:httpx:HTTP Request: GET https://wfevzenqmhhinyodslro.supabase.co/rest/v1/Possession?select=id_possession&id_user=eq.4&END=is.null \"HTTP/2 200 OK\"\n",
      "INFO:httpx:HTTP Request: GET https://wfevzenqmhhinyodslro.supabase.co/rest/v1/Valeur_Actuelle?select=valeur%2Cdate&id_contrat=eq.310&order=date.desc&limit=1 \"HTTP/2 200 OK\"\n",
      "INFO:httpx:HTTP Request: GET https://wfevzenqmhhinyodslro.supabase.co/rest/v1/Banque?select=solde%2Cdatetime&id_user=eq.4&order=datetime.desc&limit=1 \"HTTP/2 200 OK\"\n",
      "INFO:httpx:HTTP Request: POST https://wfevzenqmhhinyodslro.supabase.co/rest/v1/Possession \"HTTP/2 201 Created\"\n",
      "INFO:httpx:HTTP Request: POST https://wfevzenqmhhinyodslro.supabase.co/rest/v1/Banque \"HTTP/2 201 Created\"\n",
      "INFO:httpx:HTTP Request: POST https://wfevzenqmhhinyodslro.supabase.co/rest/v1/Transaction \"HTTP/2 201 Created\"\n"
     ]
    },
    {
     "name": "stdout",
     "output_type": "stream",
     "text": [
      "✅ Achat effectué : joueur 310 pour 6.25 crédits. Nouveau solde : 103.75\n"
     ]
    }
   ],
   "source": [
    "f.acheter_joueur(supabase, id_user = 4, id_contrat = 310)"
   ]
  },
  {
   "cell_type": "code",
   "execution_count": 1,
   "id": "29d2592a",
   "metadata": {},
   "outputs": [
    {
     "ename": "NameError",
     "evalue": "name 'f' is not defined",
     "output_type": "error",
     "traceback": [
      "\u001b[1;31m---------------------------------------------------------------------------\u001b[0m",
      "\u001b[1;31mNameError\u001b[0m                                 Traceback (most recent call last)",
      "Cell \u001b[1;32mIn[1], line 1\u001b[0m\n\u001b[1;32m----> 1\u001b[0m \u001b[43mf\u001b[49m\u001b[38;5;241m.\u001b[39macheter_joueur(supabase, id_user\u001b[38;5;241m=\u001b[39m\u001b[38;5;241m4\u001b[39m, id_contrat\u001b[38;5;241m=\u001b[39m\u001b[38;5;241m310\u001b[39m)\n",
      "\u001b[1;31mNameError\u001b[0m: name 'f' is not defined"
     ]
    }
   ],
   "source": [
    "f.acheter_joueur(supabase, id_user=4, id_contrat=310)"
   ]
  },
  {
   "cell_type": "code",
   "execution_count": null,
   "id": "8cba2ac6",
   "metadata": {},
   "outputs": [],
   "source": [
    "f.ajouter_user(supabase, pseudo = \"gpain1999\", mot_de_passe = \"Iledefrance75@\", adresse_mail = \"guillaume.pain9@gmail.com\")"
   ]
  },
  {
   "cell_type": "code",
   "execution_count": null,
   "id": "e9ec11f6",
   "metadata": {},
   "outputs": [],
   "source": [
    "f.finir_contrats_equipe(supabase, id_equipe = \"BER\")"
   ]
  },
  {
   "cell_type": "code",
   "execution_count": null,
   "id": "670afaeb",
   "metadata": {},
   "outputs": [],
   "source": [
    "from euroleague_api.game_stats import GameStats\n",
    "\n",
    "gs = GameStats()\n",
    "\n",
    "ggs = gs.get_game_report(season=season, game_code=324)"
   ]
  },
  {
   "cell_type": "code",
   "execution_count": null,
   "id": "753f2956",
   "metadata": {},
   "outputs": [],
   "source": [
    "f.get_update_match_data(supabase, season)"
   ]
  }
 ],
 "metadata": {
  "kernelspec": {
   "display_name": "Python 3",
   "language": "python",
   "name": "python3"
  },
  "language_info": {
   "codemirror_mode": {
    "name": "ipython",
    "version": 3
   },
   "file_extension": ".py",
   "mimetype": "text/x-python",
   "name": "python",
   "nbconvert_exporter": "python",
   "pygments_lexer": "ipython3",
   "version": "3.11.9"
  }
 },
 "nbformat": 4,
 "nbformat_minor": 5
}
