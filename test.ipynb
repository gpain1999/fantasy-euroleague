{
 "cells": [
  {
   "cell_type": "code",
   "execution_count": 1,
   "id": "69e72fe1",
   "metadata": {},
   "outputs": [
    {
     "name": "stderr",
     "output_type": "stream",
     "text": [
      "C:\\Users\\guill\\AppData\\Local\\Packages\\PythonSoftwareFoundation.Python.3.11_qbz5n2kfra8p0\\LocalCache\\local-packages\\Python311\\site-packages\\tqdm\\auto.py:21: TqdmWarning: IProgress not found. Please update jupyter and ipywidgets. See https://ipywidgets.readthedocs.io/en/stable/user_install.html\n",
      "  from .autonotebook import tqdm as notebook_tqdm\n"
     ]
    }
   ],
   "source": [
    "from dotenv import load_dotenv\n",
    "import os\n",
    "from supabase import create_client\n",
    "import fonctions.fonctions_api as f\n",
    "import fonctions.fonctions_tableaux as ft"
   ]
  },
  {
   "cell_type": "code",
   "execution_count": 2,
   "id": "68ab007b",
   "metadata": {},
   "outputs": [],
   "source": [
    "load_dotenv()  # charge le .env\n",
    "url = os.getenv(\"SUPABASE_URL\")\n",
    "key = os.getenv(\"SUPABASE_KEY\")\n",
    "season = os.getenv(\"SEASON\")\n",
    "supabase = create_client(url, key)"
   ]
  },
  {
   "cell_type": "code",
   "execution_count": 3,
   "id": "75ed7aa3",
   "metadata": {},
   "outputs": [
    {
     "name": "stderr",
     "output_type": "stream",
     "text": [
      "INFO:httpx:HTTP Request: GET https://wfevzenqmhhinyodslro.supabase.co/rest/v1/Banque?select=solde&id_user=eq.4&order=datetime.desc&limit=1 \"HTTP/2 200 OK\"\n"
     ]
    },
    {
     "data": {
      "text/plain": [
       "1.25"
      ]
     },
     "execution_count": 3,
     "metadata": {},
     "output_type": "execute_result"
    }
   ],
   "source": [
    "ft.afficher_solde_actuel(supabase,id_user = 4)"
   ]
  },
  {
   "cell_type": "code",
   "execution_count": null,
   "id": "81a74b87",
   "metadata": {},
   "outputs": [],
   "source": [
    "f.acheter_joueur(supabase, id_user=4, id_contrat=318)"
   ]
  },
  {
   "cell_type": "code",
   "execution_count": null,
   "id": "d12cb643",
   "metadata": {},
   "outputs": [],
   "source": [
    "ft.afficher_effectif(supabase,id_user=4)"
   ]
  },
  {
   "cell_type": "code",
   "execution_count": null,
   "id": "a512a50b",
   "metadata": {},
   "outputs": [],
   "source": [
    "ft.afficher_joueurs_disponibles(supabase,id_user=4)"
   ]
  },
  {
   "cell_type": "code",
   "execution_count": 4,
   "id": "aee2ac5a",
   "metadata": {},
   "outputs": [
    {
     "name": "stderr",
     "output_type": "stream",
     "text": [
      "INFO:httpx:HTTP Request: GET https://wfevzenqmhhinyodslro.supabase.co/rest/v1/Contrat?select=id_contrat&id_contrat=eq.329&END=is.null \"HTTP/2 200 OK\"\n",
      "INFO:httpx:HTTP Request: PATCH https://wfevzenqmhhinyodslro.supabase.co/rest/v1/Contrat?id_contrat=eq.329 \"HTTP/2 200 OK\"\n",
      "INFO:httpx:HTTP Request: GET https://wfevzenqmhhinyodslro.supabase.co/rest/v1/Possession?select=id_user&id_contrat=eq.329&END=is.null \"HTTP/2 200 OK\"\n",
      "INFO:httpx:HTTP Request: GET https://wfevzenqmhhinyodslro.supabase.co/rest/v1/Contrat?select=id_contrat&id_contrat=eq.441&END=is.null \"HTTP/2 200 OK\"\n",
      "INFO:httpx:HTTP Request: PATCH https://wfevzenqmhhinyodslro.supabase.co/rest/v1/Contrat?id_contrat=eq.441 \"HTTP/2 200 OK\"\n",
      "INFO:httpx:HTTP Request: GET https://wfevzenqmhhinyodslro.supabase.co/rest/v1/Possession?select=id_user&id_contrat=eq.441&END=is.null \"HTTP/2 200 OK\"\n",
      "INFO:httpx:HTTP Request: GET https://wfevzenqmhhinyodslro.supabase.co/rest/v1/Contrat?select=id_contrat&id_contrat=eq.494&END=is.null \"HTTP/2 200 OK\"\n"
     ]
    },
    {
     "name": "stdout",
     "output_type": "stream",
     "text": [
      "✅ Contrat 329 terminé à 2025-05-03T13:17:03.921379+02:00\n",
      "ℹ️ Aucun utilisateur ne possédait ce joueur.\n",
      "✅ Contrat 441 terminé à 2025-05-03T13:17:04.054729+02:00\n",
      "ℹ️ Aucun utilisateur ne possédait ce joueur.\n"
     ]
    },
    {
     "name": "stderr",
     "output_type": "stream",
     "text": [
      "INFO:httpx:HTTP Request: PATCH https://wfevzenqmhhinyodslro.supabase.co/rest/v1/Contrat?id_contrat=eq.494 \"HTTP/2 200 OK\"\n",
      "INFO:httpx:HTTP Request: GET https://wfevzenqmhhinyodslro.supabase.co/rest/v1/Possession?select=id_user&id_contrat=eq.494&END=is.null \"HTTP/2 200 OK\"\n",
      "INFO:httpx:HTTP Request: GET https://wfevzenqmhhinyodslro.supabase.co/rest/v1/Contrat?select=id_contrat&id_contrat=eq.496&END=is.null \"HTTP/2 200 OK\"\n",
      "INFO:httpx:HTTP Request: PATCH https://wfevzenqmhhinyodslro.supabase.co/rest/v1/Contrat?id_contrat=eq.496 \"HTTP/2 200 OK\"\n",
      "INFO:httpx:HTTP Request: GET https://wfevzenqmhhinyodslro.supabase.co/rest/v1/Possession?select=id_user&id_contrat=eq.496&END=is.null \"HTTP/2 200 OK\"\n",
      "INFO:httpx:HTTP Request: GET https://wfevzenqmhhinyodslro.supabase.co/rest/v1/Contrat?select=id_contrat&id_contrat=eq.540&END=is.null \"HTTP/2 200 OK\"\n"
     ]
    },
    {
     "name": "stdout",
     "output_type": "stream",
     "text": [
      "✅ Contrat 494 terminé à 2025-05-03T13:17:04.158839+02:00\n",
      "ℹ️ Aucun utilisateur ne possédait ce joueur.\n",
      "✅ Contrat 496 terminé à 2025-05-03T13:17:04.257246+02:00\n",
      "ℹ️ Aucun utilisateur ne possédait ce joueur.\n"
     ]
    },
    {
     "name": "stderr",
     "output_type": "stream",
     "text": [
      "INFO:httpx:HTTP Request: PATCH https://wfevzenqmhhinyodslro.supabase.co/rest/v1/Contrat?id_contrat=eq.540 \"HTTP/2 200 OK\"\n",
      "INFO:httpx:HTTP Request: GET https://wfevzenqmhhinyodslro.supabase.co/rest/v1/Possession?select=id_user&id_contrat=eq.540&END=is.null \"HTTP/2 200 OK\"\n",
      "INFO:httpx:HTTP Request: GET https://wfevzenqmhhinyodslro.supabase.co/rest/v1/Contrat?select=id_contrat&id_contrat=eq.541&END=is.null \"HTTP/2 200 OK\"\n",
      "INFO:httpx:HTTP Request: PATCH https://wfevzenqmhhinyodslro.supabase.co/rest/v1/Contrat?id_contrat=eq.541 \"HTTP/2 200 OK\"\n",
      "INFO:httpx:HTTP Request: GET https://wfevzenqmhhinyodslro.supabase.co/rest/v1/Possession?select=id_user&id_contrat=eq.541&END=is.null \"HTTP/2 200 OK\"\n",
      "INFO:httpx:HTTP Request: GET https://wfevzenqmhhinyodslro.supabase.co/rest/v1/Contrat?select=id_contrat&id_contrat=eq.546&END=is.null \"HTTP/2 200 OK\"\n"
     ]
    },
    {
     "name": "stdout",
     "output_type": "stream",
     "text": [
      "✅ Contrat 540 terminé à 2025-05-03T13:17:04.367021+02:00\n",
      "ℹ️ Aucun utilisateur ne possédait ce joueur.\n",
      "✅ Contrat 541 terminé à 2025-05-03T13:17:04.467828+02:00\n",
      "ℹ️ Aucun utilisateur ne possédait ce joueur.\n"
     ]
    },
    {
     "name": "stderr",
     "output_type": "stream",
     "text": [
      "INFO:httpx:HTTP Request: PATCH https://wfevzenqmhhinyodslro.supabase.co/rest/v1/Contrat?id_contrat=eq.546 \"HTTP/2 200 OK\"\n",
      "INFO:httpx:HTTP Request: GET https://wfevzenqmhhinyodslro.supabase.co/rest/v1/Possession?select=id_user&id_contrat=eq.546&END=is.null \"HTTP/2 200 OK\"\n",
      "INFO:httpx:HTTP Request: GET https://wfevzenqmhhinyodslro.supabase.co/rest/v1/Contrat?select=id_contrat&id_contrat=eq.570&END=is.null \"HTTP/2 200 OK\"\n",
      "INFO:httpx:HTTP Request: PATCH https://wfevzenqmhhinyodslro.supabase.co/rest/v1/Contrat?id_contrat=eq.570 \"HTTP/2 200 OK\"\n",
      "INFO:httpx:HTTP Request: GET https://wfevzenqmhhinyodslro.supabase.co/rest/v1/Possession?select=id_user&id_contrat=eq.570&END=is.null \"HTTP/2 200 OK\"\n"
     ]
    },
    {
     "name": "stdout",
     "output_type": "stream",
     "text": [
      "✅ Contrat 546 terminé à 2025-05-03T13:17:04.588052+02:00\n",
      "ℹ️ Aucun utilisateur ne possédait ce joueur.\n",
      "✅ Contrat 570 terminé à 2025-05-03T13:17:04.675255+02:00\n",
      "ℹ️ Aucun utilisateur ne possédait ce joueur.\n"
     ]
    }
   ],
   "source": [
    "for id_contrat in [329,441,494,496,540,541,546,570]:\n",
    "    f.finir_contrat_with_idcontrat(supabase,id_contrat=id_contrat)"
   ]
  },
  {
   "cell_type": "code",
   "execution_count": null,
   "id": "c37833c1",
   "metadata": {},
   "outputs": [],
   "source": [
    "# f.acheter_joueur(supabase, id_user = 4, id_contrat = 323)\n",
    "# f.acheter_joueur(supabase, id_user = 4, id_contrat = 360)\n",
    "# f.acheter_joueur(supabase, id_user = 4, id_contrat = 435)\n",
    "# f.acheter_joueur(supabase, id_user = 4, id_contrat = 328)"
   ]
  },
  {
   "cell_type": "code",
   "execution_count": 12,
   "id": "12fcedfb",
   "metadata": {},
   "outputs": [
    {
     "data": {
      "text/plain": [
       "True"
      ]
     },
     "execution_count": 12,
     "metadata": {},
     "output_type": "execute_result"
    }
   ],
   "source": [
    "import bcrypt\n",
    "import fonctions.fonctions_standard as fs\n",
    "\n",
    "plain_password = \"mdp\"\n",
    "hashed = fs.hash_password(plain_password)\n",
    "\n",
    "# Vérification\n",
    "bcrypt.checkpw(plain_password.encode(), hashed.encode())  # → True\n"
   ]
  },
  {
   "cell_type": "code",
   "execution_count": null,
   "id": "29d2592a",
   "metadata": {},
   "outputs": [
    {
     "data": {
      "text/plain": [
       "False"
      ]
     },
     "execution_count": 11,
     "metadata": {},
     "output_type": "execute_result"
    }
   ],
   "source": [
    "fs.hash_password(\"mdp\") == fs.hash_password(\"mdp\")"
   ]
  },
  {
   "cell_type": "code",
   "execution_count": null,
   "id": "8cba2ac6",
   "metadata": {},
   "outputs": [],
   "source": [
    "# f.ajouter_user(supabase, pseudo = \"gpain1999\", mot_de_passe = \"Iledefrance75@\", adresse_mail = \"guillaume.pain9@gmail.com\")"
   ]
  },
  {
   "cell_type": "code",
   "execution_count": null,
   "id": "e9ec11f6",
   "metadata": {},
   "outputs": [],
   "source": [
    "# f.finir_contrats_equipe(supabase, id_equipe = \"ZAL\")"
   ]
  },
  {
   "cell_type": "code",
   "execution_count": null,
   "id": "670afaeb",
   "metadata": {},
   "outputs": [],
   "source": [
    "from euroleague_api.game_stats import GameStats\n",
    "\n",
    "gs = GameStats()\n",
    "\n",
    "ggs = gs.get_game_report(season=season, game_code=324)"
   ]
  },
  {
   "cell_type": "code",
   "execution_count": null,
   "id": "753f2956",
   "metadata": {},
   "outputs": [],
   "source": [
    "# f.get_update_match_data(supabase, season)"
   ]
  }
 ],
 "metadata": {
  "kernelspec": {
   "display_name": "Python 3",
   "language": "python",
   "name": "python3"
  },
  "language_info": {
   "codemirror_mode": {
    "name": "ipython",
    "version": 3
   },
   "file_extension": ".py",
   "mimetype": "text/x-python",
   "name": "python",
   "nbconvert_exporter": "python",
   "pygments_lexer": "ipython3",
   "version": "3.11.9"
  }
 },
 "nbformat": 4,
 "nbformat_minor": 5
}
